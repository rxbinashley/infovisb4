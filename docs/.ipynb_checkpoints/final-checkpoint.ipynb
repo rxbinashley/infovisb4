{
 "cells": [
  {
   "cell_type": "code",
   "execution_count": 1,
   "id": "eba39154",
   "metadata": {},
   "outputs": [],
   "source": [
    "# pip install dash"
   ]
  },
  {
   "cell_type": "code",
   "execution_count": 11,
   "id": "2353b193",
   "metadata": {
    "tags": [
     "hide-input"
    ]
   },
   "outputs": [],
   "source": [
    "import pandas as pd\n",
    "import plotly.graph_objs as go\n",
    "import plotly.express as px\n",
    "import matplotlib.pyplot as plt\n",
    "import numpy as np"
   ]
  },
  {
   "cell_type": "markdown",
   "id": "c3018b68",
   "metadata": {},
   "source": [
    "# Correlation between Happiness and Economic Factors"
   ]
  },
  {
   "cell_type": "markdown",
   "id": "fa8ae4ca",
   "metadata": {},
   "source": [
    "01-07-2023"
   ]
  },
  {
   "cell_type": "markdown",
   "id": "46c78df0",
   "metadata": {},
   "source": [
    "Information Visualization: data story final \n",
    "\n",
    "Group: B4"
   ]
  },
  {
   "cell_type": "markdown",
   "id": "6b4e7153",
   "metadata": {},
   "source": [
    "| Student name | student number | \n",
    "| --- | --- | \n",
    "| Evan Lont | 14729210 | \n",
    "| Joep Haanen | 14657368 |\n",
    "| Lotte te Kulve | 14648911 | \n",
    "| Robin Kuipers | 14273810 |"
   ]
  },
  {
   "cell_type": "markdown",
   "id": "b6721852",
   "metadata": {},
   "source": [
    "## Introduction\n",
    "\n",
    "Over the last few years, a lot has happened in the world. From the end of 2019 to the first half of 2022, the world went through a global pandemic. During and after the pandemic, the inflation rates skyrocketed to record-breaking numbers. The inflation had not been this high in almost 40 years (OECD Economic Outlook, 2023). Additionally, at the beginning of 2022, a war between Russia and Ukraine broke out. All of these events could have a significant influence on world happiness rate.\n",
    "\n",
    "The analysis will focus on the correlation between the world happiness rate and economic factors.\n",
    "\n",
    "We have decided to focus on the aspect of inflation for the economic factors. This is mainly due to our own experience with inflation and that of our environment. In the past few years, we have heard a lot about the problems around inflation and the potential risks of an ever-increasing inflation rate. This has been broadcasted on the news, show in newspapers but most obviously seen in our own economic environment. We have noticed ourselves that all our expenses have gone up. Groceries have become more expensive, restaurants have become more expensive, and even basic needs like a haircut have seen an enormous increase in cost over the past years. Inflation has been an important topic of conversation that we all deal with. This is why we have set our focus on this topic and its correlation with happiness of the people around the world.\n",
    "\n",
    "The \"World Happiness Report\" dataset and relevant economic indicators such as GDP per capita, inflation rates, and consumer price index (CPI) will be used to investigate the relationship between subjective well-being and economic stability. Through data analysis, the aim is to determine whether countries with higher economic indicators tend to exhibit higher happiness scores. This study aims to contribute to understanding how economic factors influence levels of happiness at both individual and societal levels.\n",
    "\n",
    "\n",
    "## Datasets and preprocessing\n",
    "For the first dataset, the World Happiness Report Dataset from the Sustainable Development Solutions Network, powered by the Gallup World Poll data, has been chosen. As for the second dataset, an inflation dataset from OECD data that covers at least, ten years up until 2022 has been identified to meet our requirements. Upon analyzing the two datasets, it became clear that the datasets needed some filtering. Additionally, the inflation dataset offers the potential for intriguing visualizations due to the inclusion of inflation trends before, during, and to some extent, after the COVID-19 pandemic.\n",
    "\n",
    "### Dataset 1: World happiness report\n",
    "**Source:** https://worldhappiness.report/ed/2020/#appendices-and-data\n",
    "\n",
    "**Number of records:** `20`\n",
    "\n",
    "**Number of variables:** `10`\n",
    "\n",
    "**Description:** As part of our data analysis, we utilized two datasets from the World Happiness Report for the years 2020 and 2022.  The WHR is an annual publication made by the Sustainable Development Solutions Network, and relies on data collected by the Gallup World Poll. The report is written by a group of independent experts, each with expertise in different variables that the WHR measures. It covers these variables over more than 150 countries worldwide, of which we have chosen to analyze eight specific countries. The primary objective of the yearly report is to reflect a worldwide demand for more attention towards happiness by inspiring countries' governments to take on a better government policy. \n",
    "During our analysis we will work with the variables of our eight chosen countries in order to make findings about the relationship between the happiness score and several economic factors. These variables include ones found inside the WHR, such as GDP per capita and generosity, but also external variables such as the yearly inflation.\n",
    "\n",
    "| Variable | Datatype | Measurement scale |\n",
    "| --- | --- | --- |\n",
    "| country name | Categorical | Nominal |\n",
    "| Regional indicator | Categorical | Nominal |\n",
    "| Happiness score | Continuous | Interval |\n",
    "| upperwhisker | Continuous | Interval |\n",
    "| lowerwhisker | Continuous | Interval |\n",
    "| Logged GDP per capita | Continuous | Ratio |\n",
    "| Healthy life expectancy | Continuous | Interval |\n",
    "| Generosity | Continuous | Interval |\n",
    "| Perceptions of corruption | Continuous | Interval |\n",
    "| Explained by: Log GDP per capita | Continuous | Ratio |\n",
    "| Explained by: Healthy life expectancy | Continuous | Ratio |\n",
    "| Explained by: Freedom to make life choices | Continuous | Ratio |\n",
    "| Explained by: Generosity | Continuous | Ratio |\n",
    "| Explained by: Social support | Continuous | Ratio |\n",
    "| Explained by: Perceptions of corruption | Continuous | Ratio |\n",
    "| Dystopia + residual | Continuous | Interval |\n",
    "\n",
    "\n",
    "#### Preprocessing\n",
    "For detailed preprocessing, visit: [happiness data preprocessing](https://rxbinashley.github.io/infovisb4/docs/data%20cleaning.html)\n",
    "\n",
    "For each variable we asked ourselves the following questions:\n",
    "\n",
    "- What are the variables in the data?\n",
    "- Do we need all the data points and variables?\n",
    "- Are there data that are out of scope?\n",
    "- Are there privacy or ethical issues in the data?\n",
    "- Is it practical to process the variable that we want?\n",
    "- To prevent the dataset to be too large, the focus of the project will lay on the data for the years 2020 and 2022, because some of the datasets values varied a lot in between these years. Another reason for the selection of only two different years is that we want to find out how much the data can differ in such a small timeframe. The analysis will use the variables of our ten chosen countries in order to make findings about the relationship between the happiness score and several economic factors. These variables include ones found inside the WHR, such as GDP per capita and generosity, but also external variables such as the yearly inflation.\n",
    "\n",
    "Based on the requirements for the data, the following actions were taken:\n",
    "\n",
    "- The removal of specific columns from the world happiness dataset, including:\n",
    "    - Regional indicator\n",
    "    - Upperwhisker\n",
    "    - Lowerwhisker\n",
    "- Rearranging the columns to facilitate clear identification of the country and year under consideration.\n",
    "- Selecting and retaining only the countries necessary for our analysis, while removing the rest. The final selection includes: 'Switzerland', 'Netherlands', 'New Zealand', 'Canada','Saudi Arabia', 'Chile', 'Portugal', 'China', 'South Africa', 'India'. We chose these countries because they're located in different regions and their economic wellbeing differs a lot."
   ]
  },
  {
   "cell_type": "code",
   "execution_count": 12,
   "id": "9a5449c3",
   "metadata": {
    "tags": [
     "hide-input"
    ]
   },
   "outputs": [
    {
     "data": {
      "text/html": [
       "<div>\n",
       "<style scoped>\n",
       "    .dataframe tbody tr th:only-of-type {\n",
       "        vertical-align: middle;\n",
       "    }\n",
       "\n",
       "    .dataframe tbody tr th {\n",
       "        vertical-align: top;\n",
       "    }\n",
       "\n",
       "    .dataframe thead th {\n",
       "        text-align: right;\n",
       "    }\n",
       "</style>\n",
       "<table border=\"1\" class=\"dataframe\">\n",
       "  <thead>\n",
       "    <tr style=\"text-align: right;\">\n",
       "      <th></th>\n",
       "      <th>Unnamed: 0</th>\n",
       "      <th>Country name</th>\n",
       "      <th>Happiness score</th>\n",
       "      <th>Dystopia + residual</th>\n",
       "      <th>Explained by: Log GDP per capita</th>\n",
       "      <th>Explained by: Social support</th>\n",
       "      <th>Explained by: Healthy life expectancy</th>\n",
       "      <th>Explained by: Freedom to make life choices</th>\n",
       "      <th>Explained by: Generosity</th>\n",
       "      <th>Explained by: Perceptions of corruption</th>\n",
       "    </tr>\n",
       "  </thead>\n",
       "  <tbody>\n",
       "    <tr>\n",
       "      <th>0</th>\n",
       "      <td>2</td>\n",
       "      <td>CHE</td>\n",
       "      <td>7.5599</td>\n",
       "      <td>2.350267</td>\n",
       "      <td>1.390774</td>\n",
       "      <td>1.472403</td>\n",
       "      <td>1.040533</td>\n",
       "      <td>0.628954</td>\n",
       "      <td>0.269056</td>\n",
       "      <td>0.407946</td>\n",
       "    </tr>\n",
       "    <tr>\n",
       "      <th>1</th>\n",
       "      <td>5</td>\n",
       "      <td>NLD</td>\n",
       "      <td>7.4489</td>\n",
       "      <td>2.352117</td>\n",
       "      <td>1.338946</td>\n",
       "      <td>1.463646</td>\n",
       "      <td>0.975675</td>\n",
       "      <td>0.613626</td>\n",
       "      <td>0.336318</td>\n",
       "      <td>0.368570</td>\n",
       "    </tr>\n",
       "    <tr>\n",
       "      <th>2</th>\n",
       "      <td>7</td>\n",
       "      <td>NZL</td>\n",
       "      <td>7.2996</td>\n",
       "      <td>2.128108</td>\n",
       "      <td>1.242318</td>\n",
       "      <td>1.487218</td>\n",
       "      <td>1.008138</td>\n",
       "      <td>0.646790</td>\n",
       "      <td>0.325726</td>\n",
       "      <td>0.461268</td>\n",
       "    </tr>\n",
       "    <tr>\n",
       "      <th>3</th>\n",
       "      <td>10</td>\n",
       "      <td>CAN</td>\n",
       "      <td>7.2321</td>\n",
       "      <td>2.195269</td>\n",
       "      <td>1.301648</td>\n",
       "      <td>1.435392</td>\n",
       "      <td>1.022502</td>\n",
       "      <td>0.644028</td>\n",
       "      <td>0.281529</td>\n",
       "      <td>0.351702</td>\n",
       "    </tr>\n",
       "    <tr>\n",
       "      <th>4</th>\n",
       "      <td>26</td>\n",
       "      <td>SAU</td>\n",
       "      <td>6.4065</td>\n",
       "      <td>2.203119</td>\n",
       "      <td>1.334329</td>\n",
       "      <td>1.309950</td>\n",
       "      <td>0.759818</td>\n",
       "      <td>0.548477</td>\n",
       "      <td>0.087441</td>\n",
       "      <td>0.163322</td>\n",
       "    </tr>\n",
       "  </tbody>\n",
       "</table>\n",
       "</div>"
      ],
      "text/plain": [
       "   Unnamed: 0 Country name  Happiness score  Dystopia + residual  \\\n",
       "0           2          CHE           7.5599             2.350267   \n",
       "1           5          NLD           7.4489             2.352117   \n",
       "2           7          NZL           7.2996             2.128108   \n",
       "3          10          CAN           7.2321             2.195269   \n",
       "4          26          SAU           6.4065             2.203119   \n",
       "\n",
       "   Explained by: Log GDP per capita  Explained by: Social support  \\\n",
       "0                          1.390774                      1.472403   \n",
       "1                          1.338946                      1.463646   \n",
       "2                          1.242318                      1.487218   \n",
       "3                          1.301648                      1.435392   \n",
       "4                          1.334329                      1.309950   \n",
       "\n",
       "   Explained by: Healthy life expectancy  \\\n",
       "0                               1.040533   \n",
       "1                               0.975675   \n",
       "2                               1.008138   \n",
       "3                               1.022502   \n",
       "4                               0.759818   \n",
       "\n",
       "   Explained by: Freedom to make life choices  Explained by: Generosity  \\\n",
       "0                                    0.628954                  0.269056   \n",
       "1                                    0.613626                  0.336318   \n",
       "2                                    0.646790                  0.325726   \n",
       "3                                    0.644028                  0.281529   \n",
       "4                                    0.548477                  0.087441   \n",
       "\n",
       "   Explained by: Perceptions of corruption  \n",
       "0                                 0.407946  \n",
       "1                                 0.368570  \n",
       "2                                 0.461268  \n",
       "3                                 0.351702  \n",
       "4                                 0.163322  "
      ]
     },
     "execution_count": 12,
     "metadata": {},
     "output_type": "execute_result"
    }
   ],
   "source": [
    "happiness_2020 = pd.read_csv('happiness_2020.csv')\n",
    "pd.DataFrame.head(happiness_2020, n=5)"
   ]
  },
  {
   "cell_type": "code",
   "execution_count": 13,
   "id": "4428d94a",
   "metadata": {
    "tags": [
     "hide-input"
    ]
   },
   "outputs": [
    {
     "data": {
      "text/html": [
       "<div>\n",
       "<style scoped>\n",
       "    .dataframe tbody tr th:only-of-type {\n",
       "        vertical-align: middle;\n",
       "    }\n",
       "\n",
       "    .dataframe tbody tr th {\n",
       "        vertical-align: top;\n",
       "    }\n",
       "\n",
       "    .dataframe thead th {\n",
       "        text-align: right;\n",
       "    }\n",
       "</style>\n",
       "<table border=\"1\" class=\"dataframe\">\n",
       "  <thead>\n",
       "    <tr style=\"text-align: right;\">\n",
       "      <th></th>\n",
       "      <th>Unnamed: 0</th>\n",
       "      <th>Country</th>\n",
       "      <th>Happiness score</th>\n",
       "      <th>Dystopia (1.83) + residual</th>\n",
       "      <th>Explained by: GDP per capita</th>\n",
       "      <th>Explained by: Social support</th>\n",
       "      <th>Explained by: Healthy life expectancy</th>\n",
       "      <th>Explained by: Freedom to make life choices</th>\n",
       "      <th>Explained by: Generosity</th>\n",
       "      <th>Explained by: Perceptions of corruption</th>\n",
       "    </tr>\n",
       "  </thead>\n",
       "  <tbody>\n",
       "    <tr>\n",
       "      <th>0</th>\n",
       "      <td>3</td>\n",
       "      <td>CHE</td>\n",
       "      <td>7.512</td>\n",
       "      <td>2.153</td>\n",
       "      <td>2.026</td>\n",
       "      <td>1.226</td>\n",
       "      <td>0.822</td>\n",
       "      <td>0.677</td>\n",
       "      <td>0.147</td>\n",
       "      <td>0.461</td>\n",
       "    </tr>\n",
       "    <tr>\n",
       "      <th>1</th>\n",
       "      <td>4</td>\n",
       "      <td>NLD</td>\n",
       "      <td>7.415</td>\n",
       "      <td>2.137</td>\n",
       "      <td>1.945</td>\n",
       "      <td>1.206</td>\n",
       "      <td>0.787</td>\n",
       "      <td>0.651</td>\n",
       "      <td>0.271</td>\n",
       "      <td>0.419</td>\n",
       "    </tr>\n",
       "    <tr>\n",
       "      <th>2</th>\n",
       "      <td>9</td>\n",
       "      <td>NZL</td>\n",
       "      <td>7.200</td>\n",
       "      <td>1.954</td>\n",
       "      <td>1.852</td>\n",
       "      <td>1.235</td>\n",
       "      <td>0.752</td>\n",
       "      <td>0.680</td>\n",
       "      <td>0.245</td>\n",
       "      <td>0.483</td>\n",
       "    </tr>\n",
       "    <tr>\n",
       "      <th>3</th>\n",
       "      <td>14</td>\n",
       "      <td>CAN</td>\n",
       "      <td>7.025</td>\n",
       "      <td>1.924</td>\n",
       "      <td>1.886</td>\n",
       "      <td>1.188</td>\n",
       "      <td>0.783</td>\n",
       "      <td>0.659</td>\n",
       "      <td>0.217</td>\n",
       "      <td>0.368</td>\n",
       "    </tr>\n",
       "    <tr>\n",
       "      <th>4</th>\n",
       "      <td>24</td>\n",
       "      <td>SAU</td>\n",
       "      <td>6.523</td>\n",
       "      <td>2.075</td>\n",
       "      <td>1.870</td>\n",
       "      <td>1.092</td>\n",
       "      <td>0.577</td>\n",
       "      <td>0.651</td>\n",
       "      <td>0.078</td>\n",
       "      <td>0.180</td>\n",
       "    </tr>\n",
       "  </tbody>\n",
       "</table>\n",
       "</div>"
      ],
      "text/plain": [
       "   Unnamed: 0 Country  Happiness score  Dystopia (1.83) + residual  \\\n",
       "0           3     CHE            7.512                       2.153   \n",
       "1           4     NLD            7.415                       2.137   \n",
       "2           9     NZL            7.200                       1.954   \n",
       "3          14     CAN            7.025                       1.924   \n",
       "4          24     SAU            6.523                       2.075   \n",
       "\n",
       "   Explained by: GDP per capita  Explained by: Social support  \\\n",
       "0                         2.026                         1.226   \n",
       "1                         1.945                         1.206   \n",
       "2                         1.852                         1.235   \n",
       "3                         1.886                         1.188   \n",
       "4                         1.870                         1.092   \n",
       "\n",
       "   Explained by: Healthy life expectancy  \\\n",
       "0                                  0.822   \n",
       "1                                  0.787   \n",
       "2                                  0.752   \n",
       "3                                  0.783   \n",
       "4                                  0.577   \n",
       "\n",
       "   Explained by: Freedom to make life choices  Explained by: Generosity  \\\n",
       "0                                       0.677                     0.147   \n",
       "1                                       0.651                     0.271   \n",
       "2                                       0.680                     0.245   \n",
       "3                                       0.659                     0.217   \n",
       "4                                       0.651                     0.078   \n",
       "\n",
       "   Explained by: Perceptions of corruption  \n",
       "0                                    0.461  \n",
       "1                                    0.419  \n",
       "2                                    0.483  \n",
       "3                                    0.368  \n",
       "4                                    0.180  "
      ]
     },
     "execution_count": 13,
     "metadata": {},
     "output_type": "execute_result"
    }
   ],
   "source": [
    "happiness_2022 = pd.read_csv('happiness_2022.csv')\n",
    "pd.DataFrame.head(happiness_2022, n=5)"
   ]
  },
  {
   "cell_type": "markdown",
   "id": "ff0b8063",
   "metadata": {},
   "source": [
    "\n",
    "### Dataset 2: Inflation (CPI)\n",
    "\n",
    "**Source:** https://data.oecd.org/price/inflation-cpi.htm\n",
    "\n",
    "**Number of records:** `490`\n",
    "\n",
    "**Number of variables:** `8`\n",
    "\n",
    "**Description:** The \"Inflation (CPI)\" dataset from the OECD contains information on consumer price index (CPI) and inflation rates across various countries. It provides a comprehensive view of the changes in price levels for goods and services over time, allowing for the analysis and comparison of inflation rates among different economies. The dataset includes indicators such as headline inflation, core inflation, and various sub-components of CPI. It serves as a valuable resource for understanding and monitoring inflation trends at a global level.\n",
    "\n",
    "| Variable | Datatype | Measurement scale |\n",
    "| --- | --- | --- |\n",
    "| Location | Categorical | Nominal |\n",
    "| Regional indicator | Categorical | Nominal |\n",
    "| Subject | categorical | Nominal |\n",
    "| Measure | categorical | Interval |\n",
    "| Frequency | Continuous | Interval |\n",
    "| Time | Continuous | Interval |\n",
    "| Value | Continuous | Interval |\n",
    "| Flag code | Categorical | Nominal |\n",
    "\n",
    "\n",
    "#### Preprocessing\n",
    "\n",
    "For detailed preprocessing, visit: [inflation data preprocessing](https://rxbinashley.github.io/infovisb4/docs/inflation_cleaning.html)\n",
    "\n",
    "- Country names were changed to abbreviations.\n",
    "\n",
    "- Both datasets contained information per country, but the inflation dataset used abbreviations as values while the happiness dataset used full country names. To facilitate data comparison for specific countries, we needed to align the values either to abbreviations or full country names. We decided to use abbreviations for consistency.\n",
    "    "
   ]
  },
  {
   "cell_type": "code",
   "execution_count": 14,
   "id": "536c6714",
   "metadata": {
    "tags": [
     "hide-input"
    ]
   },
   "outputs": [
    {
     "data": {
      "text/html": [
       "<div>\n",
       "<style scoped>\n",
       "    .dataframe tbody tr th:only-of-type {\n",
       "        vertical-align: middle;\n",
       "    }\n",
       "\n",
       "    .dataframe tbody tr th {\n",
       "        vertical-align: top;\n",
       "    }\n",
       "\n",
       "    .dataframe thead th {\n",
       "        text-align: right;\n",
       "    }\n",
       "</style>\n",
       "<table border=\"1\" class=\"dataframe\">\n",
       "  <thead>\n",
       "    <tr style=\"text-align: right;\">\n",
       "      <th></th>\n",
       "      <th>Unnamed: 0</th>\n",
       "      <th>LOCATION</th>\n",
       "      <th>INDICATOR</th>\n",
       "      <th>SUBJECT</th>\n",
       "      <th>MEASURE</th>\n",
       "      <th>TIME</th>\n",
       "      <th>Value</th>\n",
       "    </tr>\n",
       "  </thead>\n",
       "  <tbody>\n",
       "    <tr>\n",
       "      <th>0</th>\n",
       "      <td>146211</td>\n",
       "      <td>CAN</td>\n",
       "      <td>CPI</td>\n",
       "      <td>TOT</td>\n",
       "      <td>IDX2015</td>\n",
       "      <td>2020</td>\n",
       "      <td>108.2104</td>\n",
       "    </tr>\n",
       "    <tr>\n",
       "      <th>1</th>\n",
       "      <td>146213</td>\n",
       "      <td>CAN</td>\n",
       "      <td>CPI</td>\n",
       "      <td>TOT</td>\n",
       "      <td>IDX2015</td>\n",
       "      <td>2022</td>\n",
       "      <td>119.4957</td>\n",
       "    </tr>\n",
       "    <tr>\n",
       "      <th>2</th>\n",
       "      <td>149430</td>\n",
       "      <td>NLD</td>\n",
       "      <td>CPI</td>\n",
       "      <td>TOT</td>\n",
       "      <td>IDX2015</td>\n",
       "      <td>2020</td>\n",
       "      <td>107.5100</td>\n",
       "    </tr>\n",
       "    <tr>\n",
       "      <th>3</th>\n",
       "      <td>149432</td>\n",
       "      <td>NLD</td>\n",
       "      <td>CPI</td>\n",
       "      <td>TOT</td>\n",
       "      <td>IDX2015</td>\n",
       "      <td>2022</td>\n",
       "      <td>121.4267</td>\n",
       "    </tr>\n",
       "    <tr>\n",
       "      <th>4</th>\n",
       "      <td>149731</td>\n",
       "      <td>NZL</td>\n",
       "      <td>CPI</td>\n",
       "      <td>TOT</td>\n",
       "      <td>IDX2015</td>\n",
       "      <td>2020</td>\n",
       "      <td>107.6488</td>\n",
       "    </tr>\n",
       "  </tbody>\n",
       "</table>\n",
       "</div>"
      ],
      "text/plain": [
       "   Unnamed: 0 LOCATION INDICATOR SUBJECT  MEASURE  TIME     Value\n",
       "0      146211      CAN       CPI     TOT  IDX2015  2020  108.2104\n",
       "1      146213      CAN       CPI     TOT  IDX2015  2022  119.4957\n",
       "2      149430      NLD       CPI     TOT  IDX2015  2020  107.5100\n",
       "3      149432      NLD       CPI     TOT  IDX2015  2022  121.4267\n",
       "4      149731      NZL       CPI     TOT  IDX2015  2020  107.6488"
      ]
     },
     "execution_count": 14,
     "metadata": {},
     "output_type": "execute_result"
    }
   ],
   "source": [
    "inflation = pd.read_csv('inflation.csv')\n",
    "# inflation.drop('Flag Codes', axis=1, inplace=True)\n",
    "# inflation.drop('FREQUENCY', axis=1, inplace=True)\n",
    "inflation2020 = inflation[inflation['TIME'] == 2020]\n",
    "inflation2022 = inflation[inflation['TIME'] == 2022]\n",
    "pd.DataFrame.head(inflation, n=5)"
   ]
  },
  {
   "cell_type": "code",
   "execution_count": 15,
   "id": "671e5405",
   "metadata": {
    "scrolled": true,
    "tags": [
     "hide-input"
    ]
   },
   "outputs": [],
   "source": [
    "# This code was used in the data cleaning process, more data cleaning code in datacleaning.ipynb\n",
    "\n",
    "# # list all unique country names\n",
    "# unique_countries = pd.unique(happiness_2020['Country name'])\n",
    "\n",
    "# # list all unique abbreviations\n",
    "# unique_abbr = pd.unique(inflation['LOCATION'])\n",
    "\n",
    "# # map all unique country names in a dictionary with abbreviations as values\n",
    "# country_mapping = {\n",
    "#     \"Switzerland\": \"CHE\",\n",
    "#     \"Netherlands\": \"NLD\",\n",
    "#     \"New Zealand\": \"NZL\",\n",
    "#     \"Canada\": \"CAN\",\n",
    "#     \"Saudi Arabia\": \"SAU\",\n",
    "#     \"Chile\": \"CHL\",\n",
    "#     \"Japan\": \"JPN\",\n",
    "#     \"Portugal\": \"PRT\",\n",
    "#     \"China\": \"CHN\",\n",
    "#     \"South Africa\": \"ZAF\",\n",
    "#     \"India\": \"IND\"\n",
    "# }\n",
    "\n",
    "# # map the dictionary to the values of 'country name' in the happiness dataset\n",
    "# happiness_2020['full Country name'] = happiness_2020['Country name'].map(country_mapping)\n",
    "# happiness_2020.head()\n",
    "\n",
    "# # export to csv\n",
    "# #happiness_2020.to_csv('happiness_2020.csv', index=False)"
   ]
  },
  {
   "cell_type": "markdown",
   "id": "c9d5d157",
   "metadata": {},
   "source": [
    "## Perspective 1: Inflation has a minimal impact on happiness.\n",
    ">**While inflation is an important economic indicator, its influence on happiness might be overshadowed by other factors. This perspective suggests that while economic stability is crucial, it may not be the sole determinant of happiness. To see if this perspective is valid, three visualisations have been created.**\n",
    "\n",
    "The first visualisation illustrates the increase the inflation between the years 2020 and 2022 per selected country. The lines in the graph represent the increase in inflation for the different countries. In the visualisation can be seen how for every counrty the inflation has increased in 2022. The graph also shows how high the inflation rates are in comparison with the inflation in 2015. The year 2015 got the value of 100, so an inflation rate of 130 means that the inflation got 30% higher in that year in comparison to 2015."
   ]
  },
  {
   "cell_type": "code",
   "execution_count": 16,
   "id": "afe16786",
   "metadata": {
    "scrolled": false,
    "tags": [
     "hide-input"
    ]
   },
   "outputs": [
    {
     "data": {
      "application/vnd.plotly.v1+json": {
       "config": {
        "plotlyServerURL": "https://plot.ly"
       },
       "data": [
        {
         "mode": "lines+markers",
         "name": "CAN",
         "type": "scatter",
         "x": [
          "2020",
          "2022"
         ],
         "y": [
          108.2104,
          119.4957
         ]
        },
        {
         "mode": "lines+markers",
         "name": "NLD",
         "type": "scatter",
         "x": [
          "2020",
          "2022"
         ],
         "y": [
          107.51,
          121.4267
         ]
        },
        {
         "mode": "lines+markers",
         "name": "NZL",
         "type": "scatter",
         "x": [
          "2020",
          "2022"
         ],
         "y": [
          107.6488,
          119.9165
         ]
        },
        {
         "mode": "lines+markers",
         "name": "PRT",
         "type": "scatter",
         "x": [
          "2020",
          "2022"
         ],
         "y": [
          103.3332,
          112.8373
         ]
        },
        {
         "mode": "lines+markers",
         "name": "CHE",
         "type": "scatter",
         "x": [
          "2020",
          "2022"
         ],
         "y": [
          100.6647,
          104.1208
         ]
        },
        {
         "mode": "lines+markers",
         "name": "CHL",
         "type": "scatter",
         "x": [
          "2020",
          "2022"
         ],
         "y": [
          114.8052,
          133.9722
         ]
        },
        {
         "mode": "lines+markers",
         "name": "CHN",
         "type": "scatter",
         "x": [
          "2020",
          "2022"
         ],
         "y": [
          111.475,
          114.7902
         ]
        },
        {
         "mode": "lines+markers",
         "name": "IND",
         "type": "scatter",
         "x": [
          "2020",
          "2022"
         ],
         "y": [
          128.1744,
          142.3749
         ]
        },
        {
         "mode": "lines+markers",
         "name": "SAU",
         "type": "scatter",
         "x": [
          "2020",
          "2022"
         ],
         "y": [
          105.0286,
          110.9241
         ]
        },
        {
         "mode": "lines+markers",
         "name": "ZAF",
         "type": "scatter",
         "x": [
          "2020",
          "2022"
         ],
         "y": [
          125.903,
          140.9812
         ]
        }
       ],
       "layout": {
        "height": 600,
        "template": {
         "data": {
          "bar": [
           {
            "error_x": {
             "color": "#2a3f5f"
            },
            "error_y": {
             "color": "#2a3f5f"
            },
            "marker": {
             "line": {
              "color": "#E5ECF6",
              "width": 0.5
             },
             "pattern": {
              "fillmode": "overlay",
              "size": 10,
              "solidity": 0.2
             }
            },
            "type": "bar"
           }
          ],
          "barpolar": [
           {
            "marker": {
             "line": {
              "color": "#E5ECF6",
              "width": 0.5
             },
             "pattern": {
              "fillmode": "overlay",
              "size": 10,
              "solidity": 0.2
             }
            },
            "type": "barpolar"
           }
          ],
          "carpet": [
           {
            "aaxis": {
             "endlinecolor": "#2a3f5f",
             "gridcolor": "white",
             "linecolor": "white",
             "minorgridcolor": "white",
             "startlinecolor": "#2a3f5f"
            },
            "baxis": {
             "endlinecolor": "#2a3f5f",
             "gridcolor": "white",
             "linecolor": "white",
             "minorgridcolor": "white",
             "startlinecolor": "#2a3f5f"
            },
            "type": "carpet"
           }
          ],
          "choropleth": [
           {
            "colorbar": {
             "outlinewidth": 0,
             "ticks": ""
            },
            "type": "choropleth"
           }
          ],
          "contour": [
           {
            "colorbar": {
             "outlinewidth": 0,
             "ticks": ""
            },
            "colorscale": [
             [
              0,
              "#0d0887"
             ],
             [
              0.1111111111111111,
              "#46039f"
             ],
             [
              0.2222222222222222,
              "#7201a8"
             ],
             [
              0.3333333333333333,
              "#9c179e"
             ],
             [
              0.4444444444444444,
              "#bd3786"
             ],
             [
              0.5555555555555556,
              "#d8576b"
             ],
             [
              0.6666666666666666,
              "#ed7953"
             ],
             [
              0.7777777777777778,
              "#fb9f3a"
             ],
             [
              0.8888888888888888,
              "#fdca26"
             ],
             [
              1,
              "#f0f921"
             ]
            ],
            "type": "contour"
           }
          ],
          "contourcarpet": [
           {
            "colorbar": {
             "outlinewidth": 0,
             "ticks": ""
            },
            "type": "contourcarpet"
           }
          ],
          "heatmap": [
           {
            "colorbar": {
             "outlinewidth": 0,
             "ticks": ""
            },
            "colorscale": [
             [
              0,
              "#0d0887"
             ],
             [
              0.1111111111111111,
              "#46039f"
             ],
             [
              0.2222222222222222,
              "#7201a8"
             ],
             [
              0.3333333333333333,
              "#9c179e"
             ],
             [
              0.4444444444444444,
              "#bd3786"
             ],
             [
              0.5555555555555556,
              "#d8576b"
             ],
             [
              0.6666666666666666,
              "#ed7953"
             ],
             [
              0.7777777777777778,
              "#fb9f3a"
             ],
             [
              0.8888888888888888,
              "#fdca26"
             ],
             [
              1,
              "#f0f921"
             ]
            ],
            "type": "heatmap"
           }
          ],
          "heatmapgl": [
           {
            "colorbar": {
             "outlinewidth": 0,
             "ticks": ""
            },
            "colorscale": [
             [
              0,
              "#0d0887"
             ],
             [
              0.1111111111111111,
              "#46039f"
             ],
             [
              0.2222222222222222,
              "#7201a8"
             ],
             [
              0.3333333333333333,
              "#9c179e"
             ],
             [
              0.4444444444444444,
              "#bd3786"
             ],
             [
              0.5555555555555556,
              "#d8576b"
             ],
             [
              0.6666666666666666,
              "#ed7953"
             ],
             [
              0.7777777777777778,
              "#fb9f3a"
             ],
             [
              0.8888888888888888,
              "#fdca26"
             ],
             [
              1,
              "#f0f921"
             ]
            ],
            "type": "heatmapgl"
           }
          ],
          "histogram": [
           {
            "marker": {
             "pattern": {
              "fillmode": "overlay",
              "size": 10,
              "solidity": 0.2
             }
            },
            "type": "histogram"
           }
          ],
          "histogram2d": [
           {
            "colorbar": {
             "outlinewidth": 0,
             "ticks": ""
            },
            "colorscale": [
             [
              0,
              "#0d0887"
             ],
             [
              0.1111111111111111,
              "#46039f"
             ],
             [
              0.2222222222222222,
              "#7201a8"
             ],
             [
              0.3333333333333333,
              "#9c179e"
             ],
             [
              0.4444444444444444,
              "#bd3786"
             ],
             [
              0.5555555555555556,
              "#d8576b"
             ],
             [
              0.6666666666666666,
              "#ed7953"
             ],
             [
              0.7777777777777778,
              "#fb9f3a"
             ],
             [
              0.8888888888888888,
              "#fdca26"
             ],
             [
              1,
              "#f0f921"
             ]
            ],
            "type": "histogram2d"
           }
          ],
          "histogram2dcontour": [
           {
            "colorbar": {
             "outlinewidth": 0,
             "ticks": ""
            },
            "colorscale": [
             [
              0,
              "#0d0887"
             ],
             [
              0.1111111111111111,
              "#46039f"
             ],
             [
              0.2222222222222222,
              "#7201a8"
             ],
             [
              0.3333333333333333,
              "#9c179e"
             ],
             [
              0.4444444444444444,
              "#bd3786"
             ],
             [
              0.5555555555555556,
              "#d8576b"
             ],
             [
              0.6666666666666666,
              "#ed7953"
             ],
             [
              0.7777777777777778,
              "#fb9f3a"
             ],
             [
              0.8888888888888888,
              "#fdca26"
             ],
             [
              1,
              "#f0f921"
             ]
            ],
            "type": "histogram2dcontour"
           }
          ],
          "mesh3d": [
           {
            "colorbar": {
             "outlinewidth": 0,
             "ticks": ""
            },
            "type": "mesh3d"
           }
          ],
          "parcoords": [
           {
            "line": {
             "colorbar": {
              "outlinewidth": 0,
              "ticks": ""
             }
            },
            "type": "parcoords"
           }
          ],
          "pie": [
           {
            "automargin": true,
            "type": "pie"
           }
          ],
          "scatter": [
           {
            "fillpattern": {
             "fillmode": "overlay",
             "size": 10,
             "solidity": 0.2
            },
            "type": "scatter"
           }
          ],
          "scatter3d": [
           {
            "line": {
             "colorbar": {
              "outlinewidth": 0,
              "ticks": ""
             }
            },
            "marker": {
             "colorbar": {
              "outlinewidth": 0,
              "ticks": ""
             }
            },
            "type": "scatter3d"
           }
          ],
          "scattercarpet": [
           {
            "marker": {
             "colorbar": {
              "outlinewidth": 0,
              "ticks": ""
             }
            },
            "type": "scattercarpet"
           }
          ],
          "scattergeo": [
           {
            "marker": {
             "colorbar": {
              "outlinewidth": 0,
              "ticks": ""
             }
            },
            "type": "scattergeo"
           }
          ],
          "scattergl": [
           {
            "marker": {
             "colorbar": {
              "outlinewidth": 0,
              "ticks": ""
             }
            },
            "type": "scattergl"
           }
          ],
          "scattermapbox": [
           {
            "marker": {
             "colorbar": {
              "outlinewidth": 0,
              "ticks": ""
             }
            },
            "type": "scattermapbox"
           }
          ],
          "scatterpolar": [
           {
            "marker": {
             "colorbar": {
              "outlinewidth": 0,
              "ticks": ""
             }
            },
            "type": "scatterpolar"
           }
          ],
          "scatterpolargl": [
           {
            "marker": {
             "colorbar": {
              "outlinewidth": 0,
              "ticks": ""
             }
            },
            "type": "scatterpolargl"
           }
          ],
          "scatterternary": [
           {
            "marker": {
             "colorbar": {
              "outlinewidth": 0,
              "ticks": ""
             }
            },
            "type": "scatterternary"
           }
          ],
          "surface": [
           {
            "colorbar": {
             "outlinewidth": 0,
             "ticks": ""
            },
            "colorscale": [
             [
              0,
              "#0d0887"
             ],
             [
              0.1111111111111111,
              "#46039f"
             ],
             [
              0.2222222222222222,
              "#7201a8"
             ],
             [
              0.3333333333333333,
              "#9c179e"
             ],
             [
              0.4444444444444444,
              "#bd3786"
             ],
             [
              0.5555555555555556,
              "#d8576b"
             ],
             [
              0.6666666666666666,
              "#ed7953"
             ],
             [
              0.7777777777777778,
              "#fb9f3a"
             ],
             [
              0.8888888888888888,
              "#fdca26"
             ],
             [
              1,
              "#f0f921"
             ]
            ],
            "type": "surface"
           }
          ],
          "table": [
           {
            "cells": {
             "fill": {
              "color": "#EBF0F8"
             },
             "line": {
              "color": "white"
             }
            },
            "header": {
             "fill": {
              "color": "#C8D4E3"
             },
             "line": {
              "color": "white"
             }
            },
            "type": "table"
           }
          ]
         },
         "layout": {
          "annotationdefaults": {
           "arrowcolor": "#2a3f5f",
           "arrowhead": 0,
           "arrowwidth": 1
          },
          "autotypenumbers": "strict",
          "coloraxis": {
           "colorbar": {
            "outlinewidth": 0,
            "ticks": ""
           }
          },
          "colorscale": {
           "diverging": [
            [
             0,
             "#8e0152"
            ],
            [
             0.1,
             "#c51b7d"
            ],
            [
             0.2,
             "#de77ae"
            ],
            [
             0.3,
             "#f1b6da"
            ],
            [
             0.4,
             "#fde0ef"
            ],
            [
             0.5,
             "#f7f7f7"
            ],
            [
             0.6,
             "#e6f5d0"
            ],
            [
             0.7,
             "#b8e186"
            ],
            [
             0.8,
             "#7fbc41"
            ],
            [
             0.9,
             "#4d9221"
            ],
            [
             1,
             "#276419"
            ]
           ],
           "sequential": [
            [
             0,
             "#0d0887"
            ],
            [
             0.1111111111111111,
             "#46039f"
            ],
            [
             0.2222222222222222,
             "#7201a8"
            ],
            [
             0.3333333333333333,
             "#9c179e"
            ],
            [
             0.4444444444444444,
             "#bd3786"
            ],
            [
             0.5555555555555556,
             "#d8576b"
            ],
            [
             0.6666666666666666,
             "#ed7953"
            ],
            [
             0.7777777777777778,
             "#fb9f3a"
            ],
            [
             0.8888888888888888,
             "#fdca26"
            ],
            [
             1,
             "#f0f921"
            ]
           ],
           "sequentialminus": [
            [
             0,
             "#0d0887"
            ],
            [
             0.1111111111111111,
             "#46039f"
            ],
            [
             0.2222222222222222,
             "#7201a8"
            ],
            [
             0.3333333333333333,
             "#9c179e"
            ],
            [
             0.4444444444444444,
             "#bd3786"
            ],
            [
             0.5555555555555556,
             "#d8576b"
            ],
            [
             0.6666666666666666,
             "#ed7953"
            ],
            [
             0.7777777777777778,
             "#fb9f3a"
            ],
            [
             0.8888888888888888,
             "#fdca26"
            ],
            [
             1,
             "#f0f921"
            ]
           ]
          },
          "colorway": [
           "#636efa",
           "#EF553B",
           "#00cc96",
           "#ab63fa",
           "#FFA15A",
           "#19d3f3",
           "#FF6692",
           "#B6E880",
           "#FF97FF",
           "#FECB52"
          ],
          "font": {
           "color": "#2a3f5f"
          },
          "geo": {
           "bgcolor": "white",
           "lakecolor": "white",
           "landcolor": "#E5ECF6",
           "showlakes": true,
           "showland": true,
           "subunitcolor": "white"
          },
          "hoverlabel": {
           "align": "left"
          },
          "hovermode": "closest",
          "mapbox": {
           "style": "light"
          },
          "paper_bgcolor": "white",
          "plot_bgcolor": "#E5ECF6",
          "polar": {
           "angularaxis": {
            "gridcolor": "white",
            "linecolor": "white",
            "ticks": ""
           },
           "bgcolor": "#E5ECF6",
           "radialaxis": {
            "gridcolor": "white",
            "linecolor": "white",
            "ticks": ""
           }
          },
          "scene": {
           "xaxis": {
            "backgroundcolor": "#E5ECF6",
            "gridcolor": "white",
            "gridwidth": 2,
            "linecolor": "white",
            "showbackground": true,
            "ticks": "",
            "zerolinecolor": "white"
           },
           "yaxis": {
            "backgroundcolor": "#E5ECF6",
            "gridcolor": "white",
            "gridwidth": 2,
            "linecolor": "white",
            "showbackground": true,
            "ticks": "",
            "zerolinecolor": "white"
           },
           "zaxis": {
            "backgroundcolor": "#E5ECF6",
            "gridcolor": "white",
            "gridwidth": 2,
            "linecolor": "white",
            "showbackground": true,
            "ticks": "",
            "zerolinecolor": "white"
           }
          },
          "shapedefaults": {
           "line": {
            "color": "#2a3f5f"
           }
          },
          "ternary": {
           "aaxis": {
            "gridcolor": "white",
            "linecolor": "white",
            "ticks": ""
           },
           "baxis": {
            "gridcolor": "white",
            "linecolor": "white",
            "ticks": ""
           },
           "bgcolor": "#E5ECF6",
           "caxis": {
            "gridcolor": "white",
            "linecolor": "white",
            "ticks": ""
           }
          },
          "title": {
           "x": 0.05
          },
          "xaxis": {
           "automargin": true,
           "gridcolor": "white",
           "linecolor": "white",
           "ticks": "",
           "title": {
            "standoff": 15
           },
           "zerolinecolor": "white",
           "zerolinewidth": 2
          },
          "yaxis": {
           "automargin": true,
           "gridcolor": "white",
           "linecolor": "white",
           "ticks": "",
           "title": {
            "standoff": 15
           },
           "zerolinecolor": "white",
           "zerolinewidth": 2
          }
         }
        },
        "title": {
         "text": "Inflation Rates by Country with the year 2015 as inflation rate 100"
        },
        "width": 600,
        "xaxis": {
         "ticktext": [
          "2020",
          "2022"
         ],
         "tickvals": [
          "2020",
          "2022"
         ],
         "title": {
          "text": "Year"
         },
         "type": "category"
        },
        "yaxis": {
         "title": {
          "text": "Inflation Rate"
         }
        }
       }
      },
      "text/html": [
       "<div>                            <div id=\"684c28b7-683d-4b58-9a56-c41e638a0969\" class=\"plotly-graph-div\" style=\"height:600px; width:600px;\"></div>            <script type=\"text/javascript\">                require([\"plotly\"], function(Plotly) {                    window.PLOTLYENV=window.PLOTLYENV || {};                                    if (document.getElementById(\"684c28b7-683d-4b58-9a56-c41e638a0969\")) {                    Plotly.newPlot(                        \"684c28b7-683d-4b58-9a56-c41e638a0969\",                        [{\"mode\":\"lines+markers\",\"name\":\"CAN\",\"x\":[\"2020\",\"2022\"],\"y\":[108.2104,119.4957],\"type\":\"scatter\"},{\"mode\":\"lines+markers\",\"name\":\"NLD\",\"x\":[\"2020\",\"2022\"],\"y\":[107.51,121.4267],\"type\":\"scatter\"},{\"mode\":\"lines+markers\",\"name\":\"NZL\",\"x\":[\"2020\",\"2022\"],\"y\":[107.6488,119.9165],\"type\":\"scatter\"},{\"mode\":\"lines+markers\",\"name\":\"PRT\",\"x\":[\"2020\",\"2022\"],\"y\":[103.3332,112.8373],\"type\":\"scatter\"},{\"mode\":\"lines+markers\",\"name\":\"CHE\",\"x\":[\"2020\",\"2022\"],\"y\":[100.6647,104.1208],\"type\":\"scatter\"},{\"mode\":\"lines+markers\",\"name\":\"CHL\",\"x\":[\"2020\",\"2022\"],\"y\":[114.8052,133.9722],\"type\":\"scatter\"},{\"mode\":\"lines+markers\",\"name\":\"CHN\",\"x\":[\"2020\",\"2022\"],\"y\":[111.475,114.7902],\"type\":\"scatter\"},{\"mode\":\"lines+markers\",\"name\":\"IND\",\"x\":[\"2020\",\"2022\"],\"y\":[128.1744,142.3749],\"type\":\"scatter\"},{\"mode\":\"lines+markers\",\"name\":\"SAU\",\"x\":[\"2020\",\"2022\"],\"y\":[105.0286,110.9241],\"type\":\"scatter\"},{\"mode\":\"lines+markers\",\"name\":\"ZAF\",\"x\":[\"2020\",\"2022\"],\"y\":[125.903,140.9812],\"type\":\"scatter\"}],                        {\"height\":600,\"width\":600,\"xaxis\":{\"ticktext\":[\"2020\",\"2022\"],\"tickvals\":[\"2020\",\"2022\"],\"type\":\"category\",\"title\":{\"text\":\"Year\"}},\"template\":{\"data\":{\"histogram2dcontour\":[{\"type\":\"histogram2dcontour\",\"colorbar\":{\"outlinewidth\":0,\"ticks\":\"\"},\"colorscale\":[[0.0,\"#0d0887\"],[0.1111111111111111,\"#46039f\"],[0.2222222222222222,\"#7201a8\"],[0.3333333333333333,\"#9c179e\"],[0.4444444444444444,\"#bd3786\"],[0.5555555555555556,\"#d8576b\"],[0.6666666666666666,\"#ed7953\"],[0.7777777777777778,\"#fb9f3a\"],[0.8888888888888888,\"#fdca26\"],[1.0,\"#f0f921\"]]}],\"choropleth\":[{\"type\":\"choropleth\",\"colorbar\":{\"outlinewidth\":0,\"ticks\":\"\"}}],\"histogram2d\":[{\"type\":\"histogram2d\",\"colorbar\":{\"outlinewidth\":0,\"ticks\":\"\"},\"colorscale\":[[0.0,\"#0d0887\"],[0.1111111111111111,\"#46039f\"],[0.2222222222222222,\"#7201a8\"],[0.3333333333333333,\"#9c179e\"],[0.4444444444444444,\"#bd3786\"],[0.5555555555555556,\"#d8576b\"],[0.6666666666666666,\"#ed7953\"],[0.7777777777777778,\"#fb9f3a\"],[0.8888888888888888,\"#fdca26\"],[1.0,\"#f0f921\"]]}],\"heatmap\":[{\"type\":\"heatmap\",\"colorbar\":{\"outlinewidth\":0,\"ticks\":\"\"},\"colorscale\":[[0.0,\"#0d0887\"],[0.1111111111111111,\"#46039f\"],[0.2222222222222222,\"#7201a8\"],[0.3333333333333333,\"#9c179e\"],[0.4444444444444444,\"#bd3786\"],[0.5555555555555556,\"#d8576b\"],[0.6666666666666666,\"#ed7953\"],[0.7777777777777778,\"#fb9f3a\"],[0.8888888888888888,\"#fdca26\"],[1.0,\"#f0f921\"]]}],\"heatmapgl\":[{\"type\":\"heatmapgl\",\"colorbar\":{\"outlinewidth\":0,\"ticks\":\"\"},\"colorscale\":[[0.0,\"#0d0887\"],[0.1111111111111111,\"#46039f\"],[0.2222222222222222,\"#7201a8\"],[0.3333333333333333,\"#9c179e\"],[0.4444444444444444,\"#bd3786\"],[0.5555555555555556,\"#d8576b\"],[0.6666666666666666,\"#ed7953\"],[0.7777777777777778,\"#fb9f3a\"],[0.8888888888888888,\"#fdca26\"],[1.0,\"#f0f921\"]]}],\"contourcarpet\":[{\"type\":\"contourcarpet\",\"colorbar\":{\"outlinewidth\":0,\"ticks\":\"\"}}],\"contour\":[{\"type\":\"contour\",\"colorbar\":{\"outlinewidth\":0,\"ticks\":\"\"},\"colorscale\":[[0.0,\"#0d0887\"],[0.1111111111111111,\"#46039f\"],[0.2222222222222222,\"#7201a8\"],[0.3333333333333333,\"#9c179e\"],[0.4444444444444444,\"#bd3786\"],[0.5555555555555556,\"#d8576b\"],[0.6666666666666666,\"#ed7953\"],[0.7777777777777778,\"#fb9f3a\"],[0.8888888888888888,\"#fdca26\"],[1.0,\"#f0f921\"]]}],\"surface\":[{\"type\":\"surface\",\"colorbar\":{\"outlinewidth\":0,\"ticks\":\"\"},\"colorscale\":[[0.0,\"#0d0887\"],[0.1111111111111111,\"#46039f\"],[0.2222222222222222,\"#7201a8\"],[0.3333333333333333,\"#9c179e\"],[0.4444444444444444,\"#bd3786\"],[0.5555555555555556,\"#d8576b\"],[0.6666666666666666,\"#ed7953\"],[0.7777777777777778,\"#fb9f3a\"],[0.8888888888888888,\"#fdca26\"],[1.0,\"#f0f921\"]]}],\"mesh3d\":[{\"type\":\"mesh3d\",\"colorbar\":{\"outlinewidth\":0,\"ticks\":\"\"}}],\"scatter\":[{\"fillpattern\":{\"fillmode\":\"overlay\",\"size\":10,\"solidity\":0.2},\"type\":\"scatter\"}],\"parcoords\":[{\"type\":\"parcoords\",\"line\":{\"colorbar\":{\"outlinewidth\":0,\"ticks\":\"\"}}}],\"scatterpolargl\":[{\"type\":\"scatterpolargl\",\"marker\":{\"colorbar\":{\"outlinewidth\":0,\"ticks\":\"\"}}}],\"bar\":[{\"error_x\":{\"color\":\"#2a3f5f\"},\"error_y\":{\"color\":\"#2a3f5f\"},\"marker\":{\"line\":{\"color\":\"#E5ECF6\",\"width\":0.5},\"pattern\":{\"fillmode\":\"overlay\",\"size\":10,\"solidity\":0.2}},\"type\":\"bar\"}],\"scattergeo\":[{\"type\":\"scattergeo\",\"marker\":{\"colorbar\":{\"outlinewidth\":0,\"ticks\":\"\"}}}],\"scatterpolar\":[{\"type\":\"scatterpolar\",\"marker\":{\"colorbar\":{\"outlinewidth\":0,\"ticks\":\"\"}}}],\"histogram\":[{\"marker\":{\"pattern\":{\"fillmode\":\"overlay\",\"size\":10,\"solidity\":0.2}},\"type\":\"histogram\"}],\"scattergl\":[{\"type\":\"scattergl\",\"marker\":{\"colorbar\":{\"outlinewidth\":0,\"ticks\":\"\"}}}],\"scatter3d\":[{\"type\":\"scatter3d\",\"line\":{\"colorbar\":{\"outlinewidth\":0,\"ticks\":\"\"}},\"marker\":{\"colorbar\":{\"outlinewidth\":0,\"ticks\":\"\"}}}],\"scattermapbox\":[{\"type\":\"scattermapbox\",\"marker\":{\"colorbar\":{\"outlinewidth\":0,\"ticks\":\"\"}}}],\"scatterternary\":[{\"type\":\"scatterternary\",\"marker\":{\"colorbar\":{\"outlinewidth\":0,\"ticks\":\"\"}}}],\"scattercarpet\":[{\"type\":\"scattercarpet\",\"marker\":{\"colorbar\":{\"outlinewidth\":0,\"ticks\":\"\"}}}],\"carpet\":[{\"aaxis\":{\"endlinecolor\":\"#2a3f5f\",\"gridcolor\":\"white\",\"linecolor\":\"white\",\"minorgridcolor\":\"white\",\"startlinecolor\":\"#2a3f5f\"},\"baxis\":{\"endlinecolor\":\"#2a3f5f\",\"gridcolor\":\"white\",\"linecolor\":\"white\",\"minorgridcolor\":\"white\",\"startlinecolor\":\"#2a3f5f\"},\"type\":\"carpet\"}],\"table\":[{\"cells\":{\"fill\":{\"color\":\"#EBF0F8\"},\"line\":{\"color\":\"white\"}},\"header\":{\"fill\":{\"color\":\"#C8D4E3\"},\"line\":{\"color\":\"white\"}},\"type\":\"table\"}],\"barpolar\":[{\"marker\":{\"line\":{\"color\":\"#E5ECF6\",\"width\":0.5},\"pattern\":{\"fillmode\":\"overlay\",\"size\":10,\"solidity\":0.2}},\"type\":\"barpolar\"}],\"pie\":[{\"automargin\":true,\"type\":\"pie\"}]},\"layout\":{\"autotypenumbers\":\"strict\",\"colorway\":[\"#636efa\",\"#EF553B\",\"#00cc96\",\"#ab63fa\",\"#FFA15A\",\"#19d3f3\",\"#FF6692\",\"#B6E880\",\"#FF97FF\",\"#FECB52\"],\"font\":{\"color\":\"#2a3f5f\"},\"hovermode\":\"closest\",\"hoverlabel\":{\"align\":\"left\"},\"paper_bgcolor\":\"white\",\"plot_bgcolor\":\"#E5ECF6\",\"polar\":{\"bgcolor\":\"#E5ECF6\",\"angularaxis\":{\"gridcolor\":\"white\",\"linecolor\":\"white\",\"ticks\":\"\"},\"radialaxis\":{\"gridcolor\":\"white\",\"linecolor\":\"white\",\"ticks\":\"\"}},\"ternary\":{\"bgcolor\":\"#E5ECF6\",\"aaxis\":{\"gridcolor\":\"white\",\"linecolor\":\"white\",\"ticks\":\"\"},\"baxis\":{\"gridcolor\":\"white\",\"linecolor\":\"white\",\"ticks\":\"\"},\"caxis\":{\"gridcolor\":\"white\",\"linecolor\":\"white\",\"ticks\":\"\"}},\"coloraxis\":{\"colorbar\":{\"outlinewidth\":0,\"ticks\":\"\"}},\"colorscale\":{\"sequential\":[[0.0,\"#0d0887\"],[0.1111111111111111,\"#46039f\"],[0.2222222222222222,\"#7201a8\"],[0.3333333333333333,\"#9c179e\"],[0.4444444444444444,\"#bd3786\"],[0.5555555555555556,\"#d8576b\"],[0.6666666666666666,\"#ed7953\"],[0.7777777777777778,\"#fb9f3a\"],[0.8888888888888888,\"#fdca26\"],[1.0,\"#f0f921\"]],\"sequentialminus\":[[0.0,\"#0d0887\"],[0.1111111111111111,\"#46039f\"],[0.2222222222222222,\"#7201a8\"],[0.3333333333333333,\"#9c179e\"],[0.4444444444444444,\"#bd3786\"],[0.5555555555555556,\"#d8576b\"],[0.6666666666666666,\"#ed7953\"],[0.7777777777777778,\"#fb9f3a\"],[0.8888888888888888,\"#fdca26\"],[1.0,\"#f0f921\"]],\"diverging\":[[0,\"#8e0152\"],[0.1,\"#c51b7d\"],[0.2,\"#de77ae\"],[0.3,\"#f1b6da\"],[0.4,\"#fde0ef\"],[0.5,\"#f7f7f7\"],[0.6,\"#e6f5d0\"],[0.7,\"#b8e186\"],[0.8,\"#7fbc41\"],[0.9,\"#4d9221\"],[1,\"#276419\"]]},\"xaxis\":{\"gridcolor\":\"white\",\"linecolor\":\"white\",\"ticks\":\"\",\"title\":{\"standoff\":15},\"zerolinecolor\":\"white\",\"automargin\":true,\"zerolinewidth\":2},\"yaxis\":{\"gridcolor\":\"white\",\"linecolor\":\"white\",\"ticks\":\"\",\"title\":{\"standoff\":15},\"zerolinecolor\":\"white\",\"automargin\":true,\"zerolinewidth\":2},\"scene\":{\"xaxis\":{\"backgroundcolor\":\"#E5ECF6\",\"gridcolor\":\"white\",\"linecolor\":\"white\",\"showbackground\":true,\"ticks\":\"\",\"zerolinecolor\":\"white\",\"gridwidth\":2},\"yaxis\":{\"backgroundcolor\":\"#E5ECF6\",\"gridcolor\":\"white\",\"linecolor\":\"white\",\"showbackground\":true,\"ticks\":\"\",\"zerolinecolor\":\"white\",\"gridwidth\":2},\"zaxis\":{\"backgroundcolor\":\"#E5ECF6\",\"gridcolor\":\"white\",\"linecolor\":\"white\",\"showbackground\":true,\"ticks\":\"\",\"zerolinecolor\":\"white\",\"gridwidth\":2}},\"shapedefaults\":{\"line\":{\"color\":\"#2a3f5f\"}},\"annotationdefaults\":{\"arrowcolor\":\"#2a3f5f\",\"arrowhead\":0,\"arrowwidth\":1},\"geo\":{\"bgcolor\":\"white\",\"landcolor\":\"#E5ECF6\",\"subunitcolor\":\"white\",\"showland\":true,\"showlakes\":true,\"lakecolor\":\"white\"},\"title\":{\"x\":0.05},\"mapbox\":{\"style\":\"light\"}}},\"title\":{\"text\":\"Inflation Rates by Country with the year 2015 as inflation rate 100\"},\"yaxis\":{\"title\":{\"text\":\"Inflation Rate\"}}},                        {\"responsive\": true}                    ).then(function(){\n",
       "                            \n",
       "var gd = document.getElementById('684c28b7-683d-4b58-9a56-c41e638a0969');\n",
       "var x = new MutationObserver(function (mutations, observer) {{\n",
       "        var display = window.getComputedStyle(gd).display;\n",
       "        if (!display || display === 'none') {{\n",
       "            console.log([gd, 'removed!']);\n",
       "            Plotly.purge(gd);\n",
       "            observer.disconnect();\n",
       "        }}\n",
       "}});\n",
       "\n",
       "// Listen for the removal of the full notebook cells\n",
       "var notebookContainer = gd.closest('#notebook-container');\n",
       "if (notebookContainer) {{\n",
       "    x.observe(notebookContainer, {childList: true});\n",
       "}}\n",
       "\n",
       "// Listen for the clearing of the current output cell\n",
       "var outputEl = gd.closest('.output');\n",
       "if (outputEl) {{\n",
       "    x.observe(outputEl, {childList: true});\n",
       "}}\n",
       "\n",
       "                        })                };                });            </script>        </div>"
      ]
     },
     "metadata": {},
     "output_type": "display_data"
    }
   ],
   "source": [
    "\n",
    "colors = ['rgb(102,194,165)', 'rgb(252,141,98)', 'rgb(141,160,203)']\n",
    "\n",
    "\n",
    "layout = go.Layout(\n",
    "    xaxis=go.layout.XAxis(\n",
    "        type='category',  # The x-axis type is categorical\n",
    "        tickvals=['2020', '2022'],  # Set custom tick values\n",
    "        ticktext=['2020', '2022'],  # Set custom tick labels\n",
    "    ),\n",
    "\n",
    "    width=600,\n",
    "    height=600\n",
    ")\n",
    "\n",
    "data = []\n",
    "for country in inflation2020['LOCATION'].unique():\n",
    "    # Extract the data for each country\n",
    "    country_data_2020 = inflation2020[inflation2020['LOCATION'] == country]\n",
    "    country_data_2022 = inflation2022[inflation2022['LOCATION'] == country]\n",
    "    \n",
    "    # Create a trace for each country\n",
    "    trace = go.Scatter(\n",
    "        x=['2020', '2022'],\n",
    "        y=[country_data_2020['Value'].iloc[0], country_data_2022['Value'].iloc[0]],\n",
    "        mode='lines+markers',\n",
    "        name=country,\n",
    "#         \n",
    "    )\n",
    "    \n",
    "    data.append(trace)\n",
    "\n",
    "\n",
    "fig = go.Figure(data=data, layout=layout)\n",
    "\n",
    "\n",
    "fig.update_layout(\n",
    "    title=\"Inflation Rates by Country with the year 2015 as inflation rate 100\",\n",
    "    xaxis_title=\"Year\",\n",
    "    yaxis_title=\"Inflation Rate\",\n",
    ")\n",
    "\n",
    "\n",
    "fig.show()"
   ]
  },
  {
   "cell_type": "markdown",
   "id": "74aa5e7e",
   "metadata": {},
   "source": [
    "> _Figure 1. The graph above shows the increase in inflation between the years 2020 and 2022 per selected country. The lines in the graph represent the increase in inflation for the different countries. In the visualisation can be seen how for every counrty the inflation has increased in 2022._\n",
    ">\n",
    ">"
   ]
  },
  {
   "cell_type": "markdown",
   "id": "be28d216",
   "metadata": {},
   "source": [
    "From this visualisation can be concluded that for every chosen country the inflation has increased in 2022 in perspective to 2020. With that said, let's start to look at the world happiness rates in 2020 and 2022.\n",
    "\n",
    "The second visualisation represents the happiness rate per country in 2020 and in 2022. For every country two bars have been plotted to represent the happiness rate in the two years. The orange bars represent the year 2020 and the blue represent the year 2022."
   ]
  },
  {
   "cell_type": "code",
   "execution_count": 17,
   "id": "b8b0345b",
   "metadata": {
    "tags": [
     "hide-input"
    ]
   },
   "outputs": [
    {
     "data": {
      "application/vnd.plotly.v1+json": {
       "config": {
        "plotlyServerURL": "https://plot.ly"
       },
       "data": [
        {
         "marker": {
          "color": "rgb(252,141,98)"
         },
         "name": "2020",
         "type": "bar",
         "x": [
          "CHE",
          "NLD",
          "NZL",
          "CAN",
          "SAU",
          "CHL",
          "PRT",
          "CHN",
          "ZAF",
          "IND"
         ],
         "y": [
          7.5598998069763,
          7.4489002227783,
          7.2996001243591,
          7.2321000099182,
          6.4064998626709,
          6.2284998893738,
          5.9109001159668,
          5.123899936676,
          4.8140997886658,
          3.5732998847961
         ]
        },
        {
         "marker": {
          "color": "rgb(141,160,203)"
         },
         "name": "2022",
         "type": "bar",
         "x": [
          "CHE",
          "NLD",
          "NZL",
          "CAN",
          "SAU",
          "CHL",
          "PRT",
          "CHN",
          "ZAF",
          "IND"
         ],
         "y": [
          7.512,
          7.415,
          7.2,
          7.025,
          6.523,
          6.172,
          6.016,
          5.585,
          5.194,
          3.777
         ]
        }
       ],
       "layout": {
        "height": 400,
        "template": {
         "data": {
          "bar": [
           {
            "error_x": {
             "color": "#2a3f5f"
            },
            "error_y": {
             "color": "#2a3f5f"
            },
            "marker": {
             "line": {
              "color": "#E5ECF6",
              "width": 0.5
             },
             "pattern": {
              "fillmode": "overlay",
              "size": 10,
              "solidity": 0.2
             }
            },
            "type": "bar"
           }
          ],
          "barpolar": [
           {
            "marker": {
             "line": {
              "color": "#E5ECF6",
              "width": 0.5
             },
             "pattern": {
              "fillmode": "overlay",
              "size": 10,
              "solidity": 0.2
             }
            },
            "type": "barpolar"
           }
          ],
          "carpet": [
           {
            "aaxis": {
             "endlinecolor": "#2a3f5f",
             "gridcolor": "white",
             "linecolor": "white",
             "minorgridcolor": "white",
             "startlinecolor": "#2a3f5f"
            },
            "baxis": {
             "endlinecolor": "#2a3f5f",
             "gridcolor": "white",
             "linecolor": "white",
             "minorgridcolor": "white",
             "startlinecolor": "#2a3f5f"
            },
            "type": "carpet"
           }
          ],
          "choropleth": [
           {
            "colorbar": {
             "outlinewidth": 0,
             "ticks": ""
            },
            "type": "choropleth"
           }
          ],
          "contour": [
           {
            "colorbar": {
             "outlinewidth": 0,
             "ticks": ""
            },
            "colorscale": [
             [
              0,
              "#0d0887"
             ],
             [
              0.1111111111111111,
              "#46039f"
             ],
             [
              0.2222222222222222,
              "#7201a8"
             ],
             [
              0.3333333333333333,
              "#9c179e"
             ],
             [
              0.4444444444444444,
              "#bd3786"
             ],
             [
              0.5555555555555556,
              "#d8576b"
             ],
             [
              0.6666666666666666,
              "#ed7953"
             ],
             [
              0.7777777777777778,
              "#fb9f3a"
             ],
             [
              0.8888888888888888,
              "#fdca26"
             ],
             [
              1,
              "#f0f921"
             ]
            ],
            "type": "contour"
           }
          ],
          "contourcarpet": [
           {
            "colorbar": {
             "outlinewidth": 0,
             "ticks": ""
            },
            "type": "contourcarpet"
           }
          ],
          "heatmap": [
           {
            "colorbar": {
             "outlinewidth": 0,
             "ticks": ""
            },
            "colorscale": [
             [
              0,
              "#0d0887"
             ],
             [
              0.1111111111111111,
              "#46039f"
             ],
             [
              0.2222222222222222,
              "#7201a8"
             ],
             [
              0.3333333333333333,
              "#9c179e"
             ],
             [
              0.4444444444444444,
              "#bd3786"
             ],
             [
              0.5555555555555556,
              "#d8576b"
             ],
             [
              0.6666666666666666,
              "#ed7953"
             ],
             [
              0.7777777777777778,
              "#fb9f3a"
             ],
             [
              0.8888888888888888,
              "#fdca26"
             ],
             [
              1,
              "#f0f921"
             ]
            ],
            "type": "heatmap"
           }
          ],
          "heatmapgl": [
           {
            "colorbar": {
             "outlinewidth": 0,
             "ticks": ""
            },
            "colorscale": [
             [
              0,
              "#0d0887"
             ],
             [
              0.1111111111111111,
              "#46039f"
             ],
             [
              0.2222222222222222,
              "#7201a8"
             ],
             [
              0.3333333333333333,
              "#9c179e"
             ],
             [
              0.4444444444444444,
              "#bd3786"
             ],
             [
              0.5555555555555556,
              "#d8576b"
             ],
             [
              0.6666666666666666,
              "#ed7953"
             ],
             [
              0.7777777777777778,
              "#fb9f3a"
             ],
             [
              0.8888888888888888,
              "#fdca26"
             ],
             [
              1,
              "#f0f921"
             ]
            ],
            "type": "heatmapgl"
           }
          ],
          "histogram": [
           {
            "marker": {
             "pattern": {
              "fillmode": "overlay",
              "size": 10,
              "solidity": 0.2
             }
            },
            "type": "histogram"
           }
          ],
          "histogram2d": [
           {
            "colorbar": {
             "outlinewidth": 0,
             "ticks": ""
            },
            "colorscale": [
             [
              0,
              "#0d0887"
             ],
             [
              0.1111111111111111,
              "#46039f"
             ],
             [
              0.2222222222222222,
              "#7201a8"
             ],
             [
              0.3333333333333333,
              "#9c179e"
             ],
             [
              0.4444444444444444,
              "#bd3786"
             ],
             [
              0.5555555555555556,
              "#d8576b"
             ],
             [
              0.6666666666666666,
              "#ed7953"
             ],
             [
              0.7777777777777778,
              "#fb9f3a"
             ],
             [
              0.8888888888888888,
              "#fdca26"
             ],
             [
              1,
              "#f0f921"
             ]
            ],
            "type": "histogram2d"
           }
          ],
          "histogram2dcontour": [
           {
            "colorbar": {
             "outlinewidth": 0,
             "ticks": ""
            },
            "colorscale": [
             [
              0,
              "#0d0887"
             ],
             [
              0.1111111111111111,
              "#46039f"
             ],
             [
              0.2222222222222222,
              "#7201a8"
             ],
             [
              0.3333333333333333,
              "#9c179e"
             ],
             [
              0.4444444444444444,
              "#bd3786"
             ],
             [
              0.5555555555555556,
              "#d8576b"
             ],
             [
              0.6666666666666666,
              "#ed7953"
             ],
             [
              0.7777777777777778,
              "#fb9f3a"
             ],
             [
              0.8888888888888888,
              "#fdca26"
             ],
             [
              1,
              "#f0f921"
             ]
            ],
            "type": "histogram2dcontour"
           }
          ],
          "mesh3d": [
           {
            "colorbar": {
             "outlinewidth": 0,
             "ticks": ""
            },
            "type": "mesh3d"
           }
          ],
          "parcoords": [
           {
            "line": {
             "colorbar": {
              "outlinewidth": 0,
              "ticks": ""
             }
            },
            "type": "parcoords"
           }
          ],
          "pie": [
           {
            "automargin": true,
            "type": "pie"
           }
          ],
          "scatter": [
           {
            "fillpattern": {
             "fillmode": "overlay",
             "size": 10,
             "solidity": 0.2
            },
            "type": "scatter"
           }
          ],
          "scatter3d": [
           {
            "line": {
             "colorbar": {
              "outlinewidth": 0,
              "ticks": ""
             }
            },
            "marker": {
             "colorbar": {
              "outlinewidth": 0,
              "ticks": ""
             }
            },
            "type": "scatter3d"
           }
          ],
          "scattercarpet": [
           {
            "marker": {
             "colorbar": {
              "outlinewidth": 0,
              "ticks": ""
             }
            },
            "type": "scattercarpet"
           }
          ],
          "scattergeo": [
           {
            "marker": {
             "colorbar": {
              "outlinewidth": 0,
              "ticks": ""
             }
            },
            "type": "scattergeo"
           }
          ],
          "scattergl": [
           {
            "marker": {
             "colorbar": {
              "outlinewidth": 0,
              "ticks": ""
             }
            },
            "type": "scattergl"
           }
          ],
          "scattermapbox": [
           {
            "marker": {
             "colorbar": {
              "outlinewidth": 0,
              "ticks": ""
             }
            },
            "type": "scattermapbox"
           }
          ],
          "scatterpolar": [
           {
            "marker": {
             "colorbar": {
              "outlinewidth": 0,
              "ticks": ""
             }
            },
            "type": "scatterpolar"
           }
          ],
          "scatterpolargl": [
           {
            "marker": {
             "colorbar": {
              "outlinewidth": 0,
              "ticks": ""
             }
            },
            "type": "scatterpolargl"
           }
          ],
          "scatterternary": [
           {
            "marker": {
             "colorbar": {
              "outlinewidth": 0,
              "ticks": ""
             }
            },
            "type": "scatterternary"
           }
          ],
          "surface": [
           {
            "colorbar": {
             "outlinewidth": 0,
             "ticks": ""
            },
            "colorscale": [
             [
              0,
              "#0d0887"
             ],
             [
              0.1111111111111111,
              "#46039f"
             ],
             [
              0.2222222222222222,
              "#7201a8"
             ],
             [
              0.3333333333333333,
              "#9c179e"
             ],
             [
              0.4444444444444444,
              "#bd3786"
             ],
             [
              0.5555555555555556,
              "#d8576b"
             ],
             [
              0.6666666666666666,
              "#ed7953"
             ],
             [
              0.7777777777777778,
              "#fb9f3a"
             ],
             [
              0.8888888888888888,
              "#fdca26"
             ],
             [
              1,
              "#f0f921"
             ]
            ],
            "type": "surface"
           }
          ],
          "table": [
           {
            "cells": {
             "fill": {
              "color": "#EBF0F8"
             },
             "line": {
              "color": "white"
             }
            },
            "header": {
             "fill": {
              "color": "#C8D4E3"
             },
             "line": {
              "color": "white"
             }
            },
            "type": "table"
           }
          ]
         },
         "layout": {
          "annotationdefaults": {
           "arrowcolor": "#2a3f5f",
           "arrowhead": 0,
           "arrowwidth": 1
          },
          "autotypenumbers": "strict",
          "coloraxis": {
           "colorbar": {
            "outlinewidth": 0,
            "ticks": ""
           }
          },
          "colorscale": {
           "diverging": [
            [
             0,
             "#8e0152"
            ],
            [
             0.1,
             "#c51b7d"
            ],
            [
             0.2,
             "#de77ae"
            ],
            [
             0.3,
             "#f1b6da"
            ],
            [
             0.4,
             "#fde0ef"
            ],
            [
             0.5,
             "#f7f7f7"
            ],
            [
             0.6,
             "#e6f5d0"
            ],
            [
             0.7,
             "#b8e186"
            ],
            [
             0.8,
             "#7fbc41"
            ],
            [
             0.9,
             "#4d9221"
            ],
            [
             1,
             "#276419"
            ]
           ],
           "sequential": [
            [
             0,
             "#0d0887"
            ],
            [
             0.1111111111111111,
             "#46039f"
            ],
            [
             0.2222222222222222,
             "#7201a8"
            ],
            [
             0.3333333333333333,
             "#9c179e"
            ],
            [
             0.4444444444444444,
             "#bd3786"
            ],
            [
             0.5555555555555556,
             "#d8576b"
            ],
            [
             0.6666666666666666,
             "#ed7953"
            ],
            [
             0.7777777777777778,
             "#fb9f3a"
            ],
            [
             0.8888888888888888,
             "#fdca26"
            ],
            [
             1,
             "#f0f921"
            ]
           ],
           "sequentialminus": [
            [
             0,
             "#0d0887"
            ],
            [
             0.1111111111111111,
             "#46039f"
            ],
            [
             0.2222222222222222,
             "#7201a8"
            ],
            [
             0.3333333333333333,
             "#9c179e"
            ],
            [
             0.4444444444444444,
             "#bd3786"
            ],
            [
             0.5555555555555556,
             "#d8576b"
            ],
            [
             0.6666666666666666,
             "#ed7953"
            ],
            [
             0.7777777777777778,
             "#fb9f3a"
            ],
            [
             0.8888888888888888,
             "#fdca26"
            ],
            [
             1,
             "#f0f921"
            ]
           ]
          },
          "colorway": [
           "#636efa",
           "#EF553B",
           "#00cc96",
           "#ab63fa",
           "#FFA15A",
           "#19d3f3",
           "#FF6692",
           "#B6E880",
           "#FF97FF",
           "#FECB52"
          ],
          "font": {
           "color": "#2a3f5f"
          },
          "geo": {
           "bgcolor": "white",
           "lakecolor": "white",
           "landcolor": "#E5ECF6",
           "showlakes": true,
           "showland": true,
           "subunitcolor": "white"
          },
          "hoverlabel": {
           "align": "left"
          },
          "hovermode": "closest",
          "mapbox": {
           "style": "light"
          },
          "paper_bgcolor": "white",
          "plot_bgcolor": "#E5ECF6",
          "polar": {
           "angularaxis": {
            "gridcolor": "white",
            "linecolor": "white",
            "ticks": ""
           },
           "bgcolor": "#E5ECF6",
           "radialaxis": {
            "gridcolor": "white",
            "linecolor": "white",
            "ticks": ""
           }
          },
          "scene": {
           "xaxis": {
            "backgroundcolor": "#E5ECF6",
            "gridcolor": "white",
            "gridwidth": 2,
            "linecolor": "white",
            "showbackground": true,
            "ticks": "",
            "zerolinecolor": "white"
           },
           "yaxis": {
            "backgroundcolor": "#E5ECF6",
            "gridcolor": "white",
            "gridwidth": 2,
            "linecolor": "white",
            "showbackground": true,
            "ticks": "",
            "zerolinecolor": "white"
           },
           "zaxis": {
            "backgroundcolor": "#E5ECF6",
            "gridcolor": "white",
            "gridwidth": 2,
            "linecolor": "white",
            "showbackground": true,
            "ticks": "",
            "zerolinecolor": "white"
           }
          },
          "shapedefaults": {
           "line": {
            "color": "#2a3f5f"
           }
          },
          "ternary": {
           "aaxis": {
            "gridcolor": "white",
            "linecolor": "white",
            "ticks": ""
           },
           "baxis": {
            "gridcolor": "white",
            "linecolor": "white",
            "ticks": ""
           },
           "bgcolor": "#E5ECF6",
           "caxis": {
            "gridcolor": "white",
            "linecolor": "white",
            "ticks": ""
           }
          },
          "title": {
           "x": 0.05
          },
          "xaxis": {
           "automargin": true,
           "gridcolor": "white",
           "linecolor": "white",
           "ticks": "",
           "title": {
            "standoff": 15
           },
           "zerolinecolor": "white",
           "zerolinewidth": 2
          },
          "yaxis": {
           "automargin": true,
           "gridcolor": "white",
           "linecolor": "white",
           "ticks": "",
           "title": {
            "standoff": 15
           },
           "zerolinecolor": "white",
           "zerolinewidth": 2
          }
         }
        },
        "title": {
         "text": "World happiness rate per country in 2020 vs 2022"
        },
        "xaxis": {
         "title": {
          "text": "Country"
         },
         "type": "category"
        },
        "yaxis": {
         "title": {
          "text": "Happiness Rate"
         }
        }
       }
      },
      "text/html": [
       "<div>                            <div id=\"f263daa9-0d4b-42d1-9bc8-8fb935e95d6f\" class=\"plotly-graph-div\" style=\"height:400px; width:100%;\"></div>            <script type=\"text/javascript\">                require([\"plotly\"], function(Plotly) {                    window.PLOTLYENV=window.PLOTLYENV || {};                                    if (document.getElementById(\"f263daa9-0d4b-42d1-9bc8-8fb935e95d6f\")) {                    Plotly.newPlot(                        \"f263daa9-0d4b-42d1-9bc8-8fb935e95d6f\",                        [{\"marker\":{\"color\":\"rgb(252,141,98)\"},\"name\":\"2020\",\"x\":[\"CHE\",\"NLD\",\"NZL\",\"CAN\",\"SAU\",\"CHL\",\"PRT\",\"CHN\",\"ZAF\",\"IND\"],\"y\":[7.5598998069763,7.4489002227783,7.2996001243591,7.2321000099182,6.4064998626709,6.2284998893738,5.9109001159668,5.123899936676,4.8140997886658,3.5732998847961],\"type\":\"bar\"},{\"marker\":{\"color\":\"rgb(141,160,203)\"},\"name\":\"2022\",\"x\":[\"CHE\",\"NLD\",\"NZL\",\"CAN\",\"SAU\",\"CHL\",\"PRT\",\"CHN\",\"ZAF\",\"IND\"],\"y\":[7.512,7.415,7.2,7.025,6.523,6.172,6.016,5.585,5.194,3.777],\"type\":\"bar\"}],                        {\"height\":400,\"xaxis\":{\"type\":\"category\",\"title\":{\"text\":\"Country\"}},\"template\":{\"data\":{\"histogram2dcontour\":[{\"type\":\"histogram2dcontour\",\"colorbar\":{\"outlinewidth\":0,\"ticks\":\"\"},\"colorscale\":[[0.0,\"#0d0887\"],[0.1111111111111111,\"#46039f\"],[0.2222222222222222,\"#7201a8\"],[0.3333333333333333,\"#9c179e\"],[0.4444444444444444,\"#bd3786\"],[0.5555555555555556,\"#d8576b\"],[0.6666666666666666,\"#ed7953\"],[0.7777777777777778,\"#fb9f3a\"],[0.8888888888888888,\"#fdca26\"],[1.0,\"#f0f921\"]]}],\"choropleth\":[{\"type\":\"choropleth\",\"colorbar\":{\"outlinewidth\":0,\"ticks\":\"\"}}],\"histogram2d\":[{\"type\":\"histogram2d\",\"colorbar\":{\"outlinewidth\":0,\"ticks\":\"\"},\"colorscale\":[[0.0,\"#0d0887\"],[0.1111111111111111,\"#46039f\"],[0.2222222222222222,\"#7201a8\"],[0.3333333333333333,\"#9c179e\"],[0.4444444444444444,\"#bd3786\"],[0.5555555555555556,\"#d8576b\"],[0.6666666666666666,\"#ed7953\"],[0.7777777777777778,\"#fb9f3a\"],[0.8888888888888888,\"#fdca26\"],[1.0,\"#f0f921\"]]}],\"heatmap\":[{\"type\":\"heatmap\",\"colorbar\":{\"outlinewidth\":0,\"ticks\":\"\"},\"colorscale\":[[0.0,\"#0d0887\"],[0.1111111111111111,\"#46039f\"],[0.2222222222222222,\"#7201a8\"],[0.3333333333333333,\"#9c179e\"],[0.4444444444444444,\"#bd3786\"],[0.5555555555555556,\"#d8576b\"],[0.6666666666666666,\"#ed7953\"],[0.7777777777777778,\"#fb9f3a\"],[0.8888888888888888,\"#fdca26\"],[1.0,\"#f0f921\"]]}],\"heatmapgl\":[{\"type\":\"heatmapgl\",\"colorbar\":{\"outlinewidth\":0,\"ticks\":\"\"},\"colorscale\":[[0.0,\"#0d0887\"],[0.1111111111111111,\"#46039f\"],[0.2222222222222222,\"#7201a8\"],[0.3333333333333333,\"#9c179e\"],[0.4444444444444444,\"#bd3786\"],[0.5555555555555556,\"#d8576b\"],[0.6666666666666666,\"#ed7953\"],[0.7777777777777778,\"#fb9f3a\"],[0.8888888888888888,\"#fdca26\"],[1.0,\"#f0f921\"]]}],\"contourcarpet\":[{\"type\":\"contourcarpet\",\"colorbar\":{\"outlinewidth\":0,\"ticks\":\"\"}}],\"contour\":[{\"type\":\"contour\",\"colorbar\":{\"outlinewidth\":0,\"ticks\":\"\"},\"colorscale\":[[0.0,\"#0d0887\"],[0.1111111111111111,\"#46039f\"],[0.2222222222222222,\"#7201a8\"],[0.3333333333333333,\"#9c179e\"],[0.4444444444444444,\"#bd3786\"],[0.5555555555555556,\"#d8576b\"],[0.6666666666666666,\"#ed7953\"],[0.7777777777777778,\"#fb9f3a\"],[0.8888888888888888,\"#fdca26\"],[1.0,\"#f0f921\"]]}],\"surface\":[{\"type\":\"surface\",\"colorbar\":{\"outlinewidth\":0,\"ticks\":\"\"},\"colorscale\":[[0.0,\"#0d0887\"],[0.1111111111111111,\"#46039f\"],[0.2222222222222222,\"#7201a8\"],[0.3333333333333333,\"#9c179e\"],[0.4444444444444444,\"#bd3786\"],[0.5555555555555556,\"#d8576b\"],[0.6666666666666666,\"#ed7953\"],[0.7777777777777778,\"#fb9f3a\"],[0.8888888888888888,\"#fdca26\"],[1.0,\"#f0f921\"]]}],\"mesh3d\":[{\"type\":\"mesh3d\",\"colorbar\":{\"outlinewidth\":0,\"ticks\":\"\"}}],\"scatter\":[{\"fillpattern\":{\"fillmode\":\"overlay\",\"size\":10,\"solidity\":0.2},\"type\":\"scatter\"}],\"parcoords\":[{\"type\":\"parcoords\",\"line\":{\"colorbar\":{\"outlinewidth\":0,\"ticks\":\"\"}}}],\"scatterpolargl\":[{\"type\":\"scatterpolargl\",\"marker\":{\"colorbar\":{\"outlinewidth\":0,\"ticks\":\"\"}}}],\"bar\":[{\"error_x\":{\"color\":\"#2a3f5f\"},\"error_y\":{\"color\":\"#2a3f5f\"},\"marker\":{\"line\":{\"color\":\"#E5ECF6\",\"width\":0.5},\"pattern\":{\"fillmode\":\"overlay\",\"size\":10,\"solidity\":0.2}},\"type\":\"bar\"}],\"scattergeo\":[{\"type\":\"scattergeo\",\"marker\":{\"colorbar\":{\"outlinewidth\":0,\"ticks\":\"\"}}}],\"scatterpolar\":[{\"type\":\"scatterpolar\",\"marker\":{\"colorbar\":{\"outlinewidth\":0,\"ticks\":\"\"}}}],\"histogram\":[{\"marker\":{\"pattern\":{\"fillmode\":\"overlay\",\"size\":10,\"solidity\":0.2}},\"type\":\"histogram\"}],\"scattergl\":[{\"type\":\"scattergl\",\"marker\":{\"colorbar\":{\"outlinewidth\":0,\"ticks\":\"\"}}}],\"scatter3d\":[{\"type\":\"scatter3d\",\"line\":{\"colorbar\":{\"outlinewidth\":0,\"ticks\":\"\"}},\"marker\":{\"colorbar\":{\"outlinewidth\":0,\"ticks\":\"\"}}}],\"scattermapbox\":[{\"type\":\"scattermapbox\",\"marker\":{\"colorbar\":{\"outlinewidth\":0,\"ticks\":\"\"}}}],\"scatterternary\":[{\"type\":\"scatterternary\",\"marker\":{\"colorbar\":{\"outlinewidth\":0,\"ticks\":\"\"}}}],\"scattercarpet\":[{\"type\":\"scattercarpet\",\"marker\":{\"colorbar\":{\"outlinewidth\":0,\"ticks\":\"\"}}}],\"carpet\":[{\"aaxis\":{\"endlinecolor\":\"#2a3f5f\",\"gridcolor\":\"white\",\"linecolor\":\"white\",\"minorgridcolor\":\"white\",\"startlinecolor\":\"#2a3f5f\"},\"baxis\":{\"endlinecolor\":\"#2a3f5f\",\"gridcolor\":\"white\",\"linecolor\":\"white\",\"minorgridcolor\":\"white\",\"startlinecolor\":\"#2a3f5f\"},\"type\":\"carpet\"}],\"table\":[{\"cells\":{\"fill\":{\"color\":\"#EBF0F8\"},\"line\":{\"color\":\"white\"}},\"header\":{\"fill\":{\"color\":\"#C8D4E3\"},\"line\":{\"color\":\"white\"}},\"type\":\"table\"}],\"barpolar\":[{\"marker\":{\"line\":{\"color\":\"#E5ECF6\",\"width\":0.5},\"pattern\":{\"fillmode\":\"overlay\",\"size\":10,\"solidity\":0.2}},\"type\":\"barpolar\"}],\"pie\":[{\"automargin\":true,\"type\":\"pie\"}]},\"layout\":{\"autotypenumbers\":\"strict\",\"colorway\":[\"#636efa\",\"#EF553B\",\"#00cc96\",\"#ab63fa\",\"#FFA15A\",\"#19d3f3\",\"#FF6692\",\"#B6E880\",\"#FF97FF\",\"#FECB52\"],\"font\":{\"color\":\"#2a3f5f\"},\"hovermode\":\"closest\",\"hoverlabel\":{\"align\":\"left\"},\"paper_bgcolor\":\"white\",\"plot_bgcolor\":\"#E5ECF6\",\"polar\":{\"bgcolor\":\"#E5ECF6\",\"angularaxis\":{\"gridcolor\":\"white\",\"linecolor\":\"white\",\"ticks\":\"\"},\"radialaxis\":{\"gridcolor\":\"white\",\"linecolor\":\"white\",\"ticks\":\"\"}},\"ternary\":{\"bgcolor\":\"#E5ECF6\",\"aaxis\":{\"gridcolor\":\"white\",\"linecolor\":\"white\",\"ticks\":\"\"},\"baxis\":{\"gridcolor\":\"white\",\"linecolor\":\"white\",\"ticks\":\"\"},\"caxis\":{\"gridcolor\":\"white\",\"linecolor\":\"white\",\"ticks\":\"\"}},\"coloraxis\":{\"colorbar\":{\"outlinewidth\":0,\"ticks\":\"\"}},\"colorscale\":{\"sequential\":[[0.0,\"#0d0887\"],[0.1111111111111111,\"#46039f\"],[0.2222222222222222,\"#7201a8\"],[0.3333333333333333,\"#9c179e\"],[0.4444444444444444,\"#bd3786\"],[0.5555555555555556,\"#d8576b\"],[0.6666666666666666,\"#ed7953\"],[0.7777777777777778,\"#fb9f3a\"],[0.8888888888888888,\"#fdca26\"],[1.0,\"#f0f921\"]],\"sequentialminus\":[[0.0,\"#0d0887\"],[0.1111111111111111,\"#46039f\"],[0.2222222222222222,\"#7201a8\"],[0.3333333333333333,\"#9c179e\"],[0.4444444444444444,\"#bd3786\"],[0.5555555555555556,\"#d8576b\"],[0.6666666666666666,\"#ed7953\"],[0.7777777777777778,\"#fb9f3a\"],[0.8888888888888888,\"#fdca26\"],[1.0,\"#f0f921\"]],\"diverging\":[[0,\"#8e0152\"],[0.1,\"#c51b7d\"],[0.2,\"#de77ae\"],[0.3,\"#f1b6da\"],[0.4,\"#fde0ef\"],[0.5,\"#f7f7f7\"],[0.6,\"#e6f5d0\"],[0.7,\"#b8e186\"],[0.8,\"#7fbc41\"],[0.9,\"#4d9221\"],[1,\"#276419\"]]},\"xaxis\":{\"gridcolor\":\"white\",\"linecolor\":\"white\",\"ticks\":\"\",\"title\":{\"standoff\":15},\"zerolinecolor\":\"white\",\"automargin\":true,\"zerolinewidth\":2},\"yaxis\":{\"gridcolor\":\"white\",\"linecolor\":\"white\",\"ticks\":\"\",\"title\":{\"standoff\":15},\"zerolinecolor\":\"white\",\"automargin\":true,\"zerolinewidth\":2},\"scene\":{\"xaxis\":{\"backgroundcolor\":\"#E5ECF6\",\"gridcolor\":\"white\",\"linecolor\":\"white\",\"showbackground\":true,\"ticks\":\"\",\"zerolinecolor\":\"white\",\"gridwidth\":2},\"yaxis\":{\"backgroundcolor\":\"#E5ECF6\",\"gridcolor\":\"white\",\"linecolor\":\"white\",\"showbackground\":true,\"ticks\":\"\",\"zerolinecolor\":\"white\",\"gridwidth\":2},\"zaxis\":{\"backgroundcolor\":\"#E5ECF6\",\"gridcolor\":\"white\",\"linecolor\":\"white\",\"showbackground\":true,\"ticks\":\"\",\"zerolinecolor\":\"white\",\"gridwidth\":2}},\"shapedefaults\":{\"line\":{\"color\":\"#2a3f5f\"}},\"annotationdefaults\":{\"arrowcolor\":\"#2a3f5f\",\"arrowhead\":0,\"arrowwidth\":1},\"geo\":{\"bgcolor\":\"white\",\"landcolor\":\"#E5ECF6\",\"subunitcolor\":\"white\",\"showland\":true,\"showlakes\":true,\"lakecolor\":\"white\"},\"title\":{\"x\":0.05},\"mapbox\":{\"style\":\"light\"}}},\"title\":{\"text\":\"World happiness rate per country in 2020 vs 2022\"},\"yaxis\":{\"title\":{\"text\":\"Happiness Rate\"}}},                        {\"responsive\": true}                    ).then(function(){\n",
       "                            \n",
       "var gd = document.getElementById('f263daa9-0d4b-42d1-9bc8-8fb935e95d6f');\n",
       "var x = new MutationObserver(function (mutations, observer) {{\n",
       "        var display = window.getComputedStyle(gd).display;\n",
       "        if (!display || display === 'none') {{\n",
       "            console.log([gd, 'removed!']);\n",
       "            Plotly.purge(gd);\n",
       "            observer.disconnect();\n",
       "        }}\n",
       "}});\n",
       "\n",
       "// Listen for the removal of the full notebook cells\n",
       "var notebookContainer = gd.closest('#notebook-container');\n",
       "if (notebookContainer) {{\n",
       "    x.observe(notebookContainer, {childList: true});\n",
       "}}\n",
       "\n",
       "// Listen for the clearing of the current output cell\n",
       "var outputEl = gd.closest('.output');\n",
       "if (outputEl) {{\n",
       "    x.observe(outputEl, {childList: true});\n",
       "}}\n",
       "\n",
       "                        })                };                });            </script>        </div>"
      ]
     },
     "metadata": {},
     "output_type": "display_data"
    }
   ],
   "source": [
    "\n",
    "colors = ['rgb(102,194,165)', 'rgb(252,141,98)', 'rgb(141,160,203)']\n",
    "\n",
    "layout = go.Layout(\n",
    "    xaxis=go.layout.XAxis(\n",
    "        type='category' # het type van de X as is categorisch\n",
    "    ),\n",
    "\n",
    "    height=400\n",
    ")\n",
    "\n",
    "year2020 = go.Bar(\n",
    "    x=happiness_2020['Country name'],\n",
    "    y=happiness_2020['Happiness score'], # by year 2020\n",
    "    name='2020',\n",
    "    marker=dict(color=colors[1]) \n",
    ")\n",
    "year2022 = go.Bar(\n",
    "    x=happiness_2022['Country'],\n",
    "    y=happiness_2022['Happiness score'],\n",
    "    name='2022',\n",
    "    marker=dict(color=colors[2]) \n",
    ")\n",
    "\n",
    "data = [year2020, year2022]\n",
    "fig = go.Figure(data=data, layout=layout)\n",
    "\n",
    "# labels\n",
    "fig.update_layout(\n",
    "    title=\"World happiness rate per country in 2020 vs 2022\",\n",
    "    xaxis_title=\"Country\",\n",
    "    yaxis_title=\"Happiness Rate\")\n",
    "    \n",
    "fig.show()"
   ]
  },
  {
   "cell_type": "markdown",
   "id": "8731141e",
   "metadata": {},
   "source": [
    "> _Figure 2: The grouped bar chart above represents the happiness rate for the year 2020 and the year 2022 among selected countries._"
   ]
  },
  {
   "cell_type": "markdown",
   "id": "5730962b",
   "metadata": {},
   "source": [
    "\n",
    "As shown in the visualisation above, the happiness rate per country in 2022 did not significantly change compared to the happiness rate in 2020. Because of this, the aim of this perspective is to explore the underlying factors contributing to the happiness rate and assess whether their distribution varied between the two years. The third visualisation has been made for this purpose.\n",
    "\n",
    "The third visualisation illustrates the distribution of the underlying factors which make up the happiness score per year. The mean of every column was calculated to create an average distribution per year. With this visualisation can be analysed how the distribution of the happiness rate factores change when the inflation gets higher. The dropdown can be used to switch between the two years."
   ]
  },
  {
   "cell_type": "code",
   "execution_count": 19,
   "id": "dc64a8eb",
   "metadata": {
    "scrolled": false,
    "tags": [
     "hide-input"
    ]
   },
   "outputs": [
    {
     "data": {
      "text/html": [
       "\n",
       "        <iframe\n",
       "            width=\"100%\"\n",
       "            height=\"650\"\n",
       "            src=\"http://127.0.0.1:8051/\"\n",
       "            frameborder=\"0\"\n",
       "            allowfullscreen\n",
       "            \n",
       "        ></iframe>\n",
       "        "
      ],
      "text/plain": [
       "<IPython.lib.display.IFrame at 0x127e49510>"
      ]
     },
     "metadata": {},
     "output_type": "display_data"
    }
   ],
   "source": [
    "import dash\n",
    "from dash import dcc\n",
    "from dash import html\n",
    "\n",
    "df1 = pd.read_csv('happiness_2020.csv')\n",
    "df2 = pd.read_csv('happiness_2022.csv')\n",
    "\n",
    "# Initialize the Dash app\n",
    "app = dash.Dash(__name__)\n",
    "\n",
    "\n",
    "app.layout = html.Div([\n",
    "    dcc.Dropdown(\n",
    "        id='dataset-dropdown',\n",
    "        options=[\n",
    "            {'label': 'Happiness 2020', 'value': 'df1'},\n",
    "            {'label': 'Happiness 2022', 'value': 'df2'}\n",
    "        ],\n",
    "        value='df1',\n",
    "    ),\n",
    "    html.H2(id='chart-title'),\n",
    "    dcc.Graph(id='pie-chart')\n",
    "])\n",
    "\n",
    "\n",
    "@app.callback(\n",
    "    [dash.dependencies.Output('pie-chart', 'figure'),\n",
    "     dash.dependencies.Output('chart-title', 'children')],\n",
    "    [dash.dependencies.Input('dataset-dropdown', 'value')]\n",
    ")\n",
    "    \n",
    "    \n",
    "def update_pie_chart(dataset):\n",
    "    \n",
    "    if dataset == 'df1':\n",
    "        df = df1\n",
    "        dataset_name = 'Happiness 2020'\n",
    "    else:\n",
    "        df = df2\n",
    "        dataset_name = 'Happiness 2022'\n",
    "    \n",
    "    \n",
    "    mean_values = df.iloc[:, -7:].mean(axis=0)\n",
    "    labels = mean_values.index\n",
    "    values = mean_values.values\n",
    "    \n",
    "    \n",
    "    fig = px.pie(values=values, names=labels, hole=0.5)\n",
    "    \n",
    "    \n",
    "    title = f\"Distribution of each happiness factor - {dataset_name}\"\n",
    "    \n",
    "    return fig, title\n",
    "\n",
    "# Run the app\n",
    "if __name__ == '__main__':\n",
    "    app.run_server(port=8051, debug=True)"
   ]
  },
  {
   "cell_type": "markdown",
   "id": "bc26126f",
   "metadata": {},
   "source": [
    "> _Figure 3: This interactive pie chart shows the distribution of all mean values for each happiness factor. The happiness score is made up of seven factors that can be seen in the legend. The dropdown allows to switch between 2020 and 2022._\n",
    ">\n",
    ">"
   ]
  },
  {
   "cell_type": "markdown",
   "id": "eec04df9",
   "metadata": {},
   "source": [
    "From visualisation above can be concluded that almost every factor of the world happiness rate decreased a little in their influence, while GDP per capita increased 9% in their influence. Because of this, the world happiness rate didn't significantly change."
   ]
  },
  {
   "cell_type": "markdown",
   "id": "51c313fd",
   "metadata": {},
   "source": [
    "## Perspective 2\n",
    "\n",
    ">**Overall happiness rates will decrease when the inflation gets higher and the social and health factors will play a bigger role in the happiness rates.** \n",
    "\n",
    "Economic well-being and happiness are positively correlated. By examining the relationship between inflation and happiness scores, we can observe that countries experiencing lower inflation rates tend to have higher happiness scores. This suggests that maintaining low inflation can contribute to the overall well-being and happiness of a population.\n",
    "\n",
    "### Happiness distribution\n",
    "\n",
    "First, it is necessary to visualize all different happiness scores in aa histogram that counts each given happiness score. This way, it is easier to see what the difference is between happiness scores in 2020 and in 2022. "
   ]
  },
  {
   "cell_type": "code",
   "execution_count": null,
   "id": "569b86c7",
   "metadata": {
    "tags": [
     "hide-input"
    ]
   },
   "outputs": [],
   "source": [
    "original_data20 = px.histogram(happiness_2020, x='Happiness score', title='Distribution of happiness scores in 2020')\n",
    "original_data20.show()"
   ]
  },
  {
   "cell_type": "markdown",
   "id": "5f3f34ef",
   "metadata": {},
   "source": [
    "> _Figure 4: Distribution of happiness scores in 2020. The x-axis represents happiness values and the y-axis counts how many countries give a certain score._\n",
    ">\n",
    ">"
   ]
  },
  {
   "cell_type": "code",
   "execution_count": null,
   "id": "0f767d5c",
   "metadata": {
    "tags": [
     "hide-input"
    ]
   },
   "outputs": [],
   "source": [
    "original_data22 = px.histogram(happiness_2022, x='Happiness score', title='Distribution of happiness scores in 2022')\n",
    "original_data22.show()"
   ]
  },
  {
   "cell_type": "markdown",
   "id": "346db477",
   "metadata": {},
   "source": [
    "> _Figure 5: The same distribution as Figure 4, but now it represents the values for 2022_\n",
    ">\n",
    ">"
   ]
  },
  {
   "cell_type": "markdown",
   "id": "d76d4fdd",
   "metadata": {},
   "source": [
    "### Inflation distribution"
   ]
  },
  {
   "cell_type": "markdown",
   "id": "3c0f65f4",
   "metadata": {},
   "source": [
    "To examine the distribution of inflation in 2020 and 2022, we will distribute all selected  countries into three categories based on their inflation rate: high, medium and low using the `.cut` function. With the `.cut` function, we specify three equal-sized bins with all the different inflation rates to see the distribution of high, medium and low inflation. "
   ]
  },
  {
   "cell_type": "code",
   "execution_count": null,
   "id": "a98b80ed",
   "metadata": {
    "tags": [
     "hide-input"
    ]
   },
   "outputs": [],
   "source": [
    "inflation_tot = pd.read_csv('inflation_tot.csv')\n",
    "inflation2020 = inflation_tot[inflation_tot['TIME'] == 2020]\n",
    "inflation2022 = inflation_tot[inflation_tot['TIME'] == 2022]"
   ]
  },
  {
   "cell_type": "code",
   "execution_count": null,
   "id": "496eab69",
   "metadata": {
    "scrolled": false,
    "tags": [
     "hide-input"
    ]
   },
   "outputs": [],
   "source": [
    "inflation_original20 = px.histogram(inflation2020, x='Value', title='Distribution of inflation rates in 2020')\n",
    "inflation_original22 = px.histogram(inflation2022, x='Value', title='Distribution of inflation rates in 2022')\n",
    "\n",
    "# Cut\n",
    "inflation2020['cut'] = pd.cut(inflation2020['Value'], bins=3, right=True, labels=['Low', 'Medium', 'High'])\n",
    "fig_cut20 = px.histogram(inflation2020, x=\"cut\", title='Distribution of inflation 2020')\n",
    "\n",
    "# Cut\n",
    "inflation2022['cut'] = pd.cut(inflation2022['Value'], bins=3, right=True, labels=['Low', 'Medium', 'High'])\n",
    "fig_cut22 = px.histogram(inflation2022, x=\"cut\", title='Distribution of inflation in 2022')\n",
    "\n",
    "inflation_original20.show()\n",
    "inflation_original22.show()"
   ]
  },
  {
   "cell_type": "markdown",
   "id": "99a8ff39",
   "metadata": {},
   "source": [
    "> _Figure 6: The two histograms above represent the distribution of inflation (y-axis) and counts (x-axis) how many times this inflation rate occurs._"
   ]
  },
  {
   "cell_type": "markdown",
   "id": "4d9c80f4",
   "metadata": {},
   "source": [
    "As we look at the difference between the general distribution of 2020 and 2022 in the first two graphs, we can see that 6 countries had inflation rate value between 100 and 109 in 2020. In 2022, 5 countries increased in inflation up to the value range of 110-119.99. Are those the same countries? To answer this question, let's visualise our bins."
   ]
  },
  {
   "cell_type": "code",
   "execution_count": null,
   "id": "93399864",
   "metadata": {
    "tags": [
     "hide-input"
    ]
   },
   "outputs": [],
   "source": [
    "fig_cut20.show()\n",
    "fig_cut22.show()"
   ]
  },
  {
   "cell_type": "markdown",
   "id": "130964d5",
   "metadata": {},
   "source": [
    "> _Figure 7: The histograms above visualise the bins that are created with the .cut function. The categories for the cut represent inflation and can be 'low','medium','high'. The count on the y-axis represents how many countries fall into each category._\n",
    ">"
   ]
  },
  {
   "cell_type": "markdown",
   "id": "14ed0b82",
   "metadata": {},
   "source": [
    "Noticably, the medium and high categories are even in 2022. The distribution of all categories is much more even. In 2020, medium and high were also even for these countries. \n",
    "\n",
    "Below will be a printed version of the bins, to see which country falls into the low and high category, based on the prediction that these differences will be more noticable than low - medium and medium-high. This way we are able to see how each country moves from high to low and vice versa."
   ]
  },
  {
   "cell_type": "code",
   "execution_count": null,
   "id": "03de1719",
   "metadata": {
    "tags": [
     "hide-input"
    ]
   },
   "outputs": [],
   "source": [
    "print(inflation2020[inflation2020['cut']== 'Low'])\n",
    "print(inflation2020[inflation2020['cut']== 'High'])"
   ]
  },
  {
   "cell_type": "markdown",
   "id": "956d7f12",
   "metadata": {},
   "source": [
    "## Low and high inflation in 2020 and 2022\n",
    "Countries that fell into the category of low inflation in 2020 were Canada, The Netherlands, New Zealand, Portugal, Swiss and Saudi Arabia. Countries that fell into the category of high inflation in 2020 were India and South Africa.\n",
    "\n",
    "Let's take a look at these categories in 2022:"
   ]
  },
  {
   "cell_type": "code",
   "execution_count": null,
   "id": "f2155411",
   "metadata": {
    "tags": [
     "hide-input"
    ]
   },
   "outputs": [],
   "source": [
    "print(inflation2022[inflation2022['cut']== 'Low'])\n",
    "print(inflation2022[inflation2022['cut']== 'High'])"
   ]
  },
  {
   "cell_type": "markdown",
   "id": "3a9afd4c",
   "metadata": {},
   "source": [
    "In 2022, the countries that fell into the category of low inflation were: Portugal, Swiss, China and Saudi Arabia. The countries that fell into the category of high inflation were: Chile, India and South Africa.\n",
    "\n",
    "Before we can make any statements, we have to consider the bin ranges that were created with the .qut function. In 2020, the bin ranges are 100-110 (low), 110-120 (medium) and 120-130 (high). In 2022, the bin ranges are 100-115 (low), 115-130 (medium) and 130-145 (high). The range for 2022 is larger, because the values for inflation are more varied.\n",
    "\n",
    "The countries that moved from the \"low\" category to a higher category are The Netherlands and New Zealand. There are no countries that moved from the 'high inflation' category to a lower category. But Chile moved to this category in 2022.\n",
    "\n",
    "Lets further analyze these countries in comparison to their happiness scores."
   ]
  },
  {
   "cell_type": "code",
   "execution_count": null,
   "id": "c889e775",
   "metadata": {
    "tags": [
     "hide-input"
    ]
   },
   "outputs": [],
   "source": [
    "worldhappiness_2020 = happiness_2020.drop(['Unnamed: 0'], axis=1)\n",
    "worldhappiness_2022 = happiness_2022.drop(['Unnamed: 0'], axis=1)\n",
    "\n",
    "\n",
    "# save countries in df\n",
    "low2020 = inflation2020[inflation2020['cut']== 'Low']\n",
    "high2020 = inflation2020[inflation2020['cut']== 'High']\n",
    "\n",
    "low2022 = inflation2022[inflation2022['cut']== 'Low']\n",
    "high2022 = inflation2022[inflation2022['cut']== 'High']\n",
    "\n",
    "infhap20 = pd.concat([worldhappiness_2020.set_index('Country name'), inflation2020.set_index('LOCATION')], axis = 1)\n",
    "infhap22 = pd.concat([worldhappiness_2022.set_index('Country'), inflation2022.set_index('LOCATION')], axis = 1)\n",
    "\n",
    "infhap20 = infhap20.filter(items=['Happiness score', 'Dystopia + residual',\n",
    "       'Explained by: Log GDP per capita', 'Explained by: Social support',\n",
    "       'Explained by: Healthy life expectancy',\n",
    "       'Explained by: Freedom to make life choices',\n",
    "       'Explained by: Generosity', 'Explained by: Perceptions of corruption', 'Value',\n",
    "       'cut', 'TIME'])\n",
    "infhap22 = infhap22.filter(items=['Happiness score', 'Dystopia (1.83) + residual',\n",
    "       'Explained by: GDP per capita', 'Explained by: Social support',\n",
    "       'Explained by: Healthy life expectancy',\n",
    "       'Explained by: Freedom to make life choices',\n",
    "       'Explained by: Generosity', 'Explained by: Perceptions of corruption', 'Value', 'cut','TIME'])\n",
    "\n",
    "df = pd.concat([infhap20,infhap22])"
   ]
  },
  {
   "cell_type": "code",
   "execution_count": null,
   "id": "3b1068e1",
   "metadata": {
    "tags": [
     "hide-input"
    ]
   },
   "outputs": [],
   "source": [
    "\n",
    "fig = px.scatter(df, x=\"Value\", y=\"Happiness score\", color=df.index, facet_col=\"TIME\", facet_row=\"cut\", title='Correlation between inflation and happiness scores in 2020 and 2022')\n",
    "fig.show()"
   ]
  },
  {
   "cell_type": "markdown",
   "id": "5616bba5",
   "metadata": {},
   "source": [
    "> _Figure 8: A scatterplot matrix that maps the correlation between inflation (x-axis) and happiness (y-axis) based on each category that a country's inflation rate falls in._\n",
    ">\n",
    ">"
   ]
  },
  {
   "cell_type": "markdown",
   "id": "1d00e6ac",
   "metadata": {},
   "source": [
    "\n",
    "There is a strong positive correlation between happiness and inflation for the 'low' inflation countries and their happiness score in 2020. Which is really controversial to us: it seems that countries within this category with relatively higher inflation also have a higher happiness score. The countries in the 'medium' inflation category show the same correlation, while countries in the category of high inflation have relatively lower happiness scores.\n",
    "\n",
    "In 2022, in the 'low' inflation category, the opposite can be seen: there is a strong negative correlation between inflation and happiness. The countries within this category with a relatively higher inflation value have relatively lower happiness scores. The same applies to the 'high' inflation category. Only the 'medium' category shows the opposite.\n",
    "\n",
    "The fact that inflation, in most cases, does not immediately affect the happiness score of a country indicates that besides inflation, other factors contributed to happiness that overruled the inflation effects. Possibly non-economic factors.\n",
    "\n",
    "But overall, countries (scatters) in the 'low' inflation category are clustered in between happiness scores of 5 and 8, while happiness scores of countries within the 'high' inflatition category are clustered in between 3 and 5 (2020) and 3 and 6.5 (2022). This proves that there exists a positive correlation between inflation and happiness."
   ]
  },
  {
   "cell_type": "markdown",
   "id": "be05bb33",
   "metadata": {},
   "source": [
    "## Calculating the correlation coefficient between inflation and all happiness factors\n",
    "The happiness score is made up of seven independent factors. We want to see what kind of correlation exists between inflation and all of these happiness factors."
   ]
  },
  {
   "cell_type": "code",
   "execution_count": null,
   "id": "30a086d8",
   "metadata": {
    "scrolled": false,
    "tags": [
     "hide-input"
    ]
   },
   "outputs": [],
   "source": [
    "infhap20.corr(method='pearson', min_periods=1, numeric_only=True).style.background_gradient(cmap=\"Blues\")"
   ]
  },
  {
   "cell_type": "markdown",
   "id": "f27c8b8a",
   "metadata": {},
   "source": [
    "We calculated the Pearson correlation coefficient for the combined dataframes 'inflation' and 'happiness'for both 2020 and 2022. 'Value' is the column which represents the inflation value for all countries and categories. As you can see, in 2020, there is a negative correlation between the inflation value and the happiness score (and most of its factors). Between inflation and Happiness that is explained by generosity, there is no correlation at all."
   ]
  },
  {
   "cell_type": "code",
   "execution_count": null,
   "id": "382c6d66",
   "metadata": {
    "scrolled": false,
    "tags": [
     "hide-input"
    ]
   },
   "outputs": [],
   "source": [
    "infhap22.corr(method='pearson', min_periods=1, numeric_only=True).style.background_gradient(cmap=\"Blues\")"
   ]
  },
  {
   "cell_type": "markdown",
   "id": "18fb483b",
   "metadata": {},
   "source": [
    "Between 2020 and 2022, there are no drastic changes in the correlation coefficients between inflation and happiness factors. There is a slight (positive) increase for each correlation in 2022, but not significant. This would mean that happiness is impacted by inflation, but high inflation doesn't negatively affeect happiness as much as predicted, relatively to correlation coefficients in 2020.  Other factors must have affected happiness."
   ]
  },
  {
   "cell_type": "markdown",
   "id": "6dd65b79",
   "metadata": {},
   "source": [
    "## GDP per capita and happiness\n",
    "We will explore the correlation between GDP per capita and happiness score, since GDP per capita is one of the factors that has mostly to do with economic wellbeing.\n",
    "\n",
    "We will argue that countries with higher GDP per capita may have better economic opportunities, access to resources, and quality of life, which could positively impact happiness levels."
   ]
  },
  {
   "cell_type": "code",
   "execution_count": null,
   "id": "a7d868ae",
   "metadata": {
    "tags": [
     "hide-input"
    ]
   },
   "outputs": [],
   "source": [
    "df_gdp = pd.read_csv('happiness_2020.csv')\n",
    "\n",
    "selected_countries = ['CHE', 'NLD', 'NZL', 'CAN', 'SAU', 'CHL', 'PRT', 'CHN', 'ZAF', 'IND']\n",
    "df_filtered = df_gdp[df_gdp['Country name'].isin(selected_countries)]\n",
    "\n",
    "# Create map\n",
    "fig = px.choropleth(df_filtered,\n",
    "                    locations='Country name',\n",
    "                    locationmode='ISO-3',\n",
    "                    color='Explained by: Log GDP per capita',\n",
    "                    color_continuous_scale='blues',\n",
    "                    title='GDP by Country')\n",
    "\n",
    "# Update layout\n",
    "fig.update_layout(\n",
    "    geo=dict(\n",
    "        showframe=False,\n",
    "        showcoastlines=False,\n",
    "        projection_type='equirectangular',\n",
    "        scope='world',\n",
    "    ),\n",
    "    coloraxis_colorbar=dict(\n",
    "        title='GDP',\n",
    "        thickness=20,\n",
    "        len=0.5,\n",
    "        xanchor='right',\n",
    "        yanchor='middle'\n",
    "    )\n",
    ")\n",
    "\n",
    "fig.show()"
   ]
  },
  {
   "cell_type": "markdown",
   "id": "c5859d14",
   "metadata": {},
   "source": [
    "> _Figure 9: The map above visualizes the relative GDP per country in 2020 for the 10 countries. The year 2020 was picked as the same graph in 2022 looked roughly the same, so an extra visualization wouldn't give new information._\n",
    ">\n",
    ">"
   ]
  },
  {
   "cell_type": "markdown",
   "id": "9b5e9710",
   "metadata": {},
   "source": [
    "#### Findings:\n",
    "- Switzerland, the Netherlands & Saudi Arabia have the highest GDP\n",
    "\n",
    "- India, South Africa & China have the lowest GDP\n",
    "\n",
    "\n",
    "Now, let's compare this map to a map that visualizes inflation rates:"
   ]
  },
  {
   "cell_type": "code",
   "execution_count": null,
   "id": "ee881749",
   "metadata": {
    "scrolled": false,
    "tags": [
     "hide-input"
    ]
   },
   "outputs": [],
   "source": [
    "df_inflation = pd.read_csv('inflation.csv')\n",
    "\n",
    "# Filter the inflation data \n",
    "selected_countries = ['CHE', 'NLD', 'NZL', 'CAN', 'SAU', 'CHL', 'PRT', 'CHN', 'ZAF', 'IND']\n",
    "df_filtered_inflation = df_inflation[df_inflation['LOCATION'].isin(selected_countries)]\n",
    "\n",
    "# Create map for inflation\n",
    "fig = px.choropleth(df_filtered_inflation,\n",
    "                    locations='LOCATION',\n",
    "                    locationmode='ISO-3',\n",
    "                    color='Value',\n",
    "                    color_continuous_scale='Reds',\n",
    "                    title='Inflation by Country')\n",
    "\n",
    "# Update layout\n",
    "fig.update_layout(\n",
    "    geo=dict(\n",
    "        showframe=False,\n",
    "        showcoastlines=False,\n",
    "        projection_type='equirectangular',\n",
    "        scope='world'\n",
    "    ),\n",
    "    coloraxis_colorbar=dict(\n",
    "        title='Inflation',\n",
    "        thickness=20,\n",
    "        len=0.5,\n",
    "        xanchor='right',\n",
    "        yanchor='middle'\n",
    "    )\n",
    ")\n",
    "\n",
    "fig.show()"
   ]
  },
  {
   "cell_type": "markdown",
   "id": "b0316adf",
   "metadata": {},
   "source": [
    "> _Figure 10: The map above visualizes the relative inflation per country._"
   ]
  },
  {
   "cell_type": "markdown",
   "id": "92a493f2",
   "metadata": {},
   "source": [
    "#### Findings:\n",
    "- India, South Africa and Chile have the highest inflation\n",
    "\n",
    "- Canada, Portugal and Switzerland have the lowest inflation\n",
    "\n"
   ]
  },
  {
   "cell_type": "markdown",
   "id": "39b7c336",
   "metadata": {},
   "source": [
    "## Reflection\n",
    "\n",
    "Working on this project was an overall positive experience. There was some confusion at the start of the course with regard to the groups, where we were not sure if it was possible to form this group due to our different sub-groups. Fortunately, we were allowed to form a group together. We have learned from past projects that a strong group is the key to a succesfull result and this is why we decided on this group. From beginning to end there was a strong communication and we could rely on each other for valueable feedback.\n",
    "\n",
    "We began this project by deciding on a topic. This happened fairly easy and we were content with the topic of inflation and its correlation to happiness. After this the two perspectives of our project were set. We then divided the tasks based on the required results, and got to work. The tasks were evenly divided and we were able to help each other if necessary. There was some confusion around the use of github, which unfortunately led to us not being able to hand in the draft version correctly, thus losing some points. We quickly learned from our mistakes and went to focus on the next task. We did a peer review in the next lesson which was incredibly helpfull for us. This gave us the opportunity to reflect on our own graphics and receive feedback on it from outside our group. We took this feedback very seriously and started modifying our graphs to better fit the desired result. The peer review also gave us the opportunity to look at another groups' graphics and use this for inspiration in our own project. The next week we made the final changes to our graphics. In some cases we could not figure out the solution by ourselves, and for this we used generative AI (chatGPT) to help us complete the graphics. When the graphics were finished, we set on to answer our perspectives using the data we acquired from the graphics.\n",
    "\n",
    "We can all agree that the teamwork in our group was splendid and we are more than satisfied with the results. Whenever there was trouble, we quickly came to each others help which was possible due to the strong communication in our group. There were few disagreements about the project, and if there ever were, they were quickly resolved.\n",
    "\n",
    "The only problem we did have was the absence of TA's in some of our lessons, which led to us not being able to receive any feedback. We believe this held us back from improving our project further. Overall working on this project was a more than satisfactory experience"
   ]
  },
  {
   "cell_type": "markdown",
   "id": "0751a21a",
   "metadata": {},
   "source": [
    "## Work distribution\n",
    "\n",
    "We distributed the jobs to be done as in the table below:\n",
    "\n",
    "| Who? | Tasks |\n",
    "| --- | --- |\n",
    "| Evan | Visualizations, setup Github  |\n",
    "| Joep | Visualizations |\n",
    "| Lotte | Data preprocessing, documentation, visualizations |\n",
    "| Robin | Data preprocessing, documentation, visualizations, githubn pages |"
   ]
  },
  {
   "cell_type": "markdown",
   "id": "f215ec4f",
   "metadata": {},
   "source": [
    "## References\n",
    "    OECD Economic Outlook. (2023). OECD iLibrary. \n",
    "        https://www.oecd-ilibrary.org/economics/oecd-economic-outlook_16097408 \n",
    "    World Happiness Report Data Dashboard | The World Happiness Report. (z.d.). \n",
    "        https://worldhappiness.report/data/\n",
    "        \n",
    "    Orac, R. (2022, 5 januari). The Fastest Way to Visualize Correlation in Python - Towards Data Science. Medium. https://towardsdatascience.com/the-fastest-way-to-visualize-correlation-in-python-ce10ed533346\n",
    "    \n",
    "    GeeksforGeeks. (2022). How to use pandas cut  and qcut. GeeksforGeeks. https://www.geeksforgeeks.org/how-to-use-pandas-cut-and-qcut/\n",
    "    "
   ]
  }
 ],
 "metadata": {
  "celltoolbar": "Tags",
  "kernelspec": {
   "display_name": "Python 3 (ipykernel)",
   "language": "python",
   "name": "python3"
  },
  "language_info": {
   "codemirror_mode": {
    "name": "ipython",
    "version": 3
   },
   "file_extension": ".py",
   "mimetype": "text/x-python",
   "name": "python",
   "nbconvert_exporter": "python",
   "pygments_lexer": "ipython3",
   "version": "3.11.0"
  }
 },
 "nbformat": 4,
 "nbformat_minor": 5
}
