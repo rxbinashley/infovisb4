{
 "cells": [
  {
   "cell_type": "code",
   "execution_count": 4,
   "id": "6af1128d",
   "metadata": {},
   "outputs": [],
   "source": [
    "import pandas as pd\n",
    "import plotly.graph_objs as go\n",
    "import plotly.express as px\n",
    "import numpy as np"
   ]
  },
  {
   "cell_type": "code",
   "execution_count": 5,
   "id": "f9ac3734",
   "metadata": {},
   "outputs": [],
   "source": [
    "df1 = pd.read_csv('2022.csv')"
   ]
  },
  {
   "cell_type": "code",
   "execution_count": 6,
   "id": "b948eac9",
   "metadata": {},
   "outputs": [],
   "source": [
    "# df1.drop('Whisker-low', axis=1, inplace=True)"
   ]
  },
  {
   "cell_type": "code",
   "execution_count": 39,
   "id": "4062d41f",
   "metadata": {},
   "outputs": [],
   "source": [
    "# pd.DataFrame.head(df1)"
   ]
  },
  {
   "cell_type": "code",
   "execution_count": 8,
   "id": "69eae52f",
   "metadata": {},
   "outputs": [],
   "source": [
    "df2 = pd.read_csv('2020.csv')"
   ]
  },
  {
   "cell_type": "code",
   "execution_count": 9,
   "id": "055f7e44",
   "metadata": {},
   "outputs": [],
   "source": [
    "df2.drop('Ladder score in Dystopia', axis=1, inplace=True)"
   ]
  },
  {
   "cell_type": "code",
   "execution_count": 10,
   "id": "4943ad5a",
   "metadata": {},
   "outputs": [],
   "source": [
    "# pd.DataFrame.head(df2)"
   ]
  },
  {
   "cell_type": "code",
   "execution_count": 11,
   "id": "197cf1dd",
   "metadata": {},
   "outputs": [],
   "source": [
    "# Specify the desired column order\n",
    "column_order = ['Country name', 'Happiness score', 'Dystopia + residual', 'Explained by: Log GDP per capita', 'Explained by: Social support', 'Explained by: Healthy life expectancy', 'Explained by: Freedom to make life choices', 'Explained by: Generosity', 'Explained by: Perceptions of corruption']\n",
    "\n",
    "# Reorder the columns\n",
    "df_2020 = df2[column_order]\n",
    "df_2022 = df1"
   ]
  },
  {
   "cell_type": "code",
   "execution_count": 38,
   "id": "a5ac40fb",
   "metadata": {},
   "outputs": [],
   "source": [
    "# pd.DataFrame.head(df_2020)"
   ]
  },
  {
   "cell_type": "code",
   "execution_count": 28,
   "id": "5dcd0b12",
   "metadata": {},
   "outputs": [],
   "source": [
    "# pd.DataFrame.head(df_2022)"
   ]
  },
  {
   "cell_type": "code",
   "execution_count": 32,
   "id": "145f984d",
   "metadata": {},
   "outputs": [],
   "source": [
    "# df_2022.drop('RANK', axis=1, inplace=True)"
   ]
  },
  {
   "cell_type": "code",
   "execution_count": 37,
   "id": "32a665bc",
   "metadata": {},
   "outputs": [],
   "source": [
    "countries = ['Netherlands', 'Chile's, 'China', 'Portugal', 'Rwanda', \n",
    "             'South Africa', 'Switzerland', 'Canada', 'Saudi Arabia', \n",
    "             'New Zealand', 'Japan','Vietnam', 'Cameroon', 'Morocco', \n",
    "             'Nepal', 'Egypt', 'Madagascar','India', 'Iran', 'Ukraine']\n",
    "new_2020 = df_2020[df_2020['Country name'].isin(countries)]"
   ]
  },
  {
   "cell_type": "code",
   "execution_count": 34,
   "id": "f674bbb4",
   "metadata": {},
   "outputs": [],
   "source": [
    "new_2022 = df_2022[df_2022['Country'].isin(countries)]\n",
    "# pd.DataFrame.head(new_2022, n=5)"
   ]
  },
  {
   "cell_type": "code",
   "execution_count": 43,
   "id": "b0b5d5dd",
   "metadata": {},
   "outputs": [],
   "source": [
    "pd.DataFrame.head(new_2022, n=5)\n",
    "new_2022.to_csv('happiness2022.csv')"
   ]
  },
  {
   "cell_type": "code",
   "execution_count": 44,
   "id": "75d3a28d",
   "metadata": {},
   "outputs": [],
   "source": [
    "pd.DataFrame.head(new_2020, n=5)\n",
    "new_2020.to_csv('happiness2020.csv')"
   ]
  }
 ],
 "metadata": {
  "kernelspec": {
   "display_name": "Python 3 (ipykernel)",
   "language": "python",
   "name": "python3"
  },
  "language_info": {
   "codemirror_mode": {
    "name": "ipython",
    "version": 3
   },
   "file_extension": ".py",
   "mimetype": "text/x-python",
   "name": "python",
   "nbconvert_exporter": "python",
   "pygments_lexer": "ipython3",
   "version": "3.11.0"
  }
 },
 "nbformat": 4,
 "nbformat_minor": 5
}
